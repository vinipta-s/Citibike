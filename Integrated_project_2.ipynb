{
 "cells": [
  {
   "cell_type": "markdown",
   "metadata": {},
   "source": [
    "**Review**\n",
    "\n",
    "Hi, my name is Dmitry and I will be reviewing your project.\n",
    "  \n",
    "You can find my comments in colored markdown cells:\n",
    "  \n",
    "<div class=\"alert alert-success\">\n",
    "  If everything is done successfully.\n",
    "</div>\n",
    "  \n",
    "<div class=\"alert alert-warning\">\n",
    "  If I have some (optional) suggestions, or questions to think about, or general comments.\n",
    "</div>\n",
    "  \n",
    "<div class=\"alert alert-danger\">\n",
    "  If a section requires some corrections. Work can't be accepted with red comments.\n",
    "</div>\n",
    "  \n",
    "Please don't remove my comments, as it will make further review iterations much harder for me.\n",
    "  \n",
    "Feel free to reply to my comments or ask questions using the following template:\n",
    "  \n",
    "<div class=\"alert alert-info\">\n",
    "  For your comments and questions.\n",
    "</div>\n",
    "  \n",
    "First of all, thank you for turning in the project! You did a pretty good job overall, but there are a few problems that need to be fixed before the project is accepted. Let me know if you have questions!"
   ]
  },
  {
   "cell_type": "markdown",
   "metadata": {},
   "source": [
    "# Integrated Project 2"
   ]
  },
  {
   "cell_type": "markdown",
   "metadata": {},
   "source": [
    "Gold ore mining\n",
    "\n",
    "3 datasets: train, test, source (included train and test set)\n",
    "\n",
    "Tasks: \n",
    "* EDA\n",
    "* clean data\n",
    "* Build multiple ML models (two targets) and determine the best model based on the final sMAPE. \n",
    "* Test this model with the test set. "
   ]
  },
  {
   "cell_type": "markdown",
   "metadata": {},
   "source": [
    "## EDA"
   ]
  },
  {
   "cell_type": "code",
   "execution_count": 1,
   "metadata": {},
   "outputs": [],
   "source": [
    "import pandas as pd\n",
    "import matplotlib.pyplot as plt\n",
    "import seaborn as sns\n",
    "\n",
    "from sklearn.metrics import mean_absolute_error\n",
    "from sklearn.model_selection import train_test_split\n",
    "from sklearn.ensemble import RandomForestRegressor\n",
    "from sklearn.linear_model import LinearRegression\n",
    "from sklearn.tree import DecisionTreeRegressor\n",
    "from sklearn.model_selection import cross_val_score\n",
    "from sklearn.metrics import make_scorer\n",
    "from sklearn.metrics import mean_squared_error\n",
    "\n",
    "\n"
   ]
  },
  {
   "cell_type": "code",
   "execution_count": 2,
   "metadata": {},
   "outputs": [],
   "source": [
    "# read in datasets\n",
    "df_train = pd.read_csv('/datasets/gold_recovery_train.csv')\n",
    "df_test = pd.read_csv('/datasets/gold_recovery_test.csv')\n",
    "df_source = pd.read_csv('/datasets/gold_recovery_full.csv')"
   ]
  },
  {
   "cell_type": "markdown",
   "metadata": {},
   "source": [
    "### review data"
   ]
  },
  {
   "cell_type": "code",
   "execution_count": 3,
   "metadata": {},
   "outputs": [
    {
     "name": "stdout",
     "output_type": "stream",
     "text": [
      "0\n"
     ]
    },
    {
     "data": {
      "text/plain": [
       "date                                            0\n",
       "final.output.concentrate_ag                    72\n",
       "final.output.concentrate_pb                    72\n",
       "final.output.concentrate_sol                  370\n",
       "final.output.concentrate_au                    71\n",
       "                                             ... \n",
       "secondary_cleaner.state.floatbank5_a_level     85\n",
       "secondary_cleaner.state.floatbank5_b_air       85\n",
       "secondary_cleaner.state.floatbank5_b_level     84\n",
       "secondary_cleaner.state.floatbank6_a_air      103\n",
       "secondary_cleaner.state.floatbank6_a_level     85\n",
       "Length: 87, dtype: int64"
      ]
     },
     "metadata": {},
     "output_type": "display_data"
    },
    {
     "name": "stdout",
     "output_type": "stream",
     "text": [
      "<class 'pandas.core.frame.DataFrame'>\n",
      "RangeIndex: 16860 entries, 0 to 16859\n",
      "Data columns (total 87 columns):\n",
      " #   Column                                              Non-Null Count  Dtype  \n",
      "---  ------                                              --------------  -----  \n",
      " 0   date                                                16860 non-null  object \n",
      " 1   final.output.concentrate_ag                         16788 non-null  float64\n",
      " 2   final.output.concentrate_pb                         16788 non-null  float64\n",
      " 3   final.output.concentrate_sol                        16490 non-null  float64\n",
      " 4   final.output.concentrate_au                         16789 non-null  float64\n",
      " 5   final.output.recovery                               15339 non-null  float64\n",
      " 6   final.output.tail_ag                                16794 non-null  float64\n",
      " 7   final.output.tail_pb                                16677 non-null  float64\n",
      " 8   final.output.tail_sol                               16715 non-null  float64\n",
      " 9   final.output.tail_au                                16794 non-null  float64\n",
      " 10  primary_cleaner.input.sulfate                       15553 non-null  float64\n",
      " 11  primary_cleaner.input.depressant                    15598 non-null  float64\n",
      " 12  primary_cleaner.input.feed_size                     16860 non-null  float64\n",
      " 13  primary_cleaner.input.xanthate                      15875 non-null  float64\n",
      " 14  primary_cleaner.output.concentrate_ag               16778 non-null  float64\n",
      " 15  primary_cleaner.output.concentrate_pb               16502 non-null  float64\n",
      " 16  primary_cleaner.output.concentrate_sol              16224 non-null  float64\n",
      " 17  primary_cleaner.output.concentrate_au               16778 non-null  float64\n",
      " 18  primary_cleaner.output.tail_ag                      16777 non-null  float64\n",
      " 19  primary_cleaner.output.tail_pb                      16761 non-null  float64\n",
      " 20  primary_cleaner.output.tail_sol                     16579 non-null  float64\n",
      " 21  primary_cleaner.output.tail_au                      16777 non-null  float64\n",
      " 22  primary_cleaner.state.floatbank8_a_air              16820 non-null  float64\n",
      " 23  primary_cleaner.state.floatbank8_a_level            16827 non-null  float64\n",
      " 24  primary_cleaner.state.floatbank8_b_air              16820 non-null  float64\n",
      " 25  primary_cleaner.state.floatbank8_b_level            16833 non-null  float64\n",
      " 26  primary_cleaner.state.floatbank8_c_air              16822 non-null  float64\n",
      " 27  primary_cleaner.state.floatbank8_c_level            16833 non-null  float64\n",
      " 28  primary_cleaner.state.floatbank8_d_air              16821 non-null  float64\n",
      " 29  primary_cleaner.state.floatbank8_d_level            16833 non-null  float64\n",
      " 30  rougher.calculation.sulfate_to_au_concentrate       16833 non-null  float64\n",
      " 31  rougher.calculation.floatbank10_sulfate_to_au_feed  16833 non-null  float64\n",
      " 32  rougher.calculation.floatbank11_sulfate_to_au_feed  16833 non-null  float64\n",
      " 33  rougher.calculation.au_pb_ratio                     15618 non-null  float64\n",
      " 34  rougher.input.feed_ag                               16778 non-null  float64\n",
      " 35  rougher.input.feed_pb                               16632 non-null  float64\n",
      " 36  rougher.input.feed_rate                             16347 non-null  float64\n",
      " 37  rougher.input.feed_size                             16443 non-null  float64\n",
      " 38  rougher.input.feed_sol                              16568 non-null  float64\n",
      " 39  rougher.input.feed_au                               16777 non-null  float64\n",
      " 40  rougher.input.floatbank10_sulfate                   15816 non-null  float64\n",
      " 41  rougher.input.floatbank10_xanthate                  16514 non-null  float64\n",
      " 42  rougher.input.floatbank11_sulfate                   16237 non-null  float64\n",
      " 43  rougher.input.floatbank11_xanthate                  14956 non-null  float64\n",
      " 44  rougher.output.concentrate_ag                       16778 non-null  float64\n",
      " 45  rougher.output.concentrate_pb                       16778 non-null  float64\n",
      " 46  rougher.output.concentrate_sol                      16698 non-null  float64\n",
      " 47  rougher.output.concentrate_au                       16778 non-null  float64\n",
      " 48  rougher.output.recovery                             14287 non-null  float64\n",
      " 49  rougher.output.tail_ag                              14610 non-null  float64\n",
      " 50  rougher.output.tail_pb                              16778 non-null  float64\n",
      " 51  rougher.output.tail_sol                             14611 non-null  float64\n",
      " 52  rougher.output.tail_au                              14611 non-null  float64\n",
      " 53  rougher.state.floatbank10_a_air                     16807 non-null  float64\n",
      " 54  rougher.state.floatbank10_a_level                   16807 non-null  float64\n",
      " 55  rougher.state.floatbank10_b_air                     16807 non-null  float64\n",
      " 56  rougher.state.floatbank10_b_level                   16807 non-null  float64\n",
      " 57  rougher.state.floatbank10_c_air                     16807 non-null  float64\n",
      " 58  rougher.state.floatbank10_c_level                   16814 non-null  float64\n",
      " 59  rougher.state.floatbank10_d_air                     16802 non-null  float64\n",
      " 60  rougher.state.floatbank10_d_level                   16809 non-null  float64\n",
      " 61  rougher.state.floatbank10_e_air                     16257 non-null  float64\n",
      " 62  rougher.state.floatbank10_e_level                   16809 non-null  float64\n",
      " 63  rougher.state.floatbank10_f_air                     16802 non-null  float64\n",
      " 64  rougher.state.floatbank10_f_level                   16802 non-null  float64\n",
      " 65  secondary_cleaner.output.tail_ag                    16776 non-null  float64\n",
      " 66  secondary_cleaner.output.tail_pb                    16764 non-null  float64\n",
      " 67  secondary_cleaner.output.tail_sol                   14874 non-null  float64\n",
      " 68  secondary_cleaner.output.tail_au                    16778 non-null  float64\n",
      " 69  secondary_cleaner.state.floatbank2_a_air            16497 non-null  float64\n",
      " 70  secondary_cleaner.state.floatbank2_a_level          16751 non-null  float64\n",
      " 71  secondary_cleaner.state.floatbank2_b_air            16705 non-null  float64\n",
      " 72  secondary_cleaner.state.floatbank2_b_level          16748 non-null  float64\n",
      " 73  secondary_cleaner.state.floatbank3_a_air            16763 non-null  float64\n",
      " 74  secondary_cleaner.state.floatbank3_a_level          16747 non-null  float64\n",
      " 75  secondary_cleaner.state.floatbank3_b_air            16752 non-null  float64\n",
      " 76  secondary_cleaner.state.floatbank3_b_level          16750 non-null  float64\n",
      " 77  secondary_cleaner.state.floatbank4_a_air            16731 non-null  float64\n",
      " 78  secondary_cleaner.state.floatbank4_a_level          16747 non-null  float64\n",
      " 79  secondary_cleaner.state.floatbank4_b_air            16768 non-null  float64\n",
      " 80  secondary_cleaner.state.floatbank4_b_level          16767 non-null  float64\n",
      " 81  secondary_cleaner.state.floatbank5_a_air            16775 non-null  float64\n",
      " 82  secondary_cleaner.state.floatbank5_a_level          16775 non-null  float64\n",
      " 83  secondary_cleaner.state.floatbank5_b_air            16775 non-null  float64\n",
      " 84  secondary_cleaner.state.floatbank5_b_level          16776 non-null  float64\n",
      " 85  secondary_cleaner.state.floatbank6_a_air            16757 non-null  float64\n",
      " 86  secondary_cleaner.state.floatbank6_a_level          16775 non-null  float64\n",
      "dtypes: float64(86), object(1)\n",
      "memory usage: 11.2+ MB\n"
     ]
    },
    {
     "data": {
      "text/plain": [
       "None"
      ]
     },
     "metadata": {},
     "output_type": "display_data"
    },
    {
     "data": {
      "text/plain": [
       "(16860, 87)"
      ]
     },
     "execution_count": 3,
     "metadata": {},
     "output_type": "execute_result"
    }
   ],
   "source": [
    "print(df_train.duplicated().sum())\n",
    "display(df_train.isna().sum())\n",
    "display(df_train.info())\n",
    "df_train.sample(5)\n",
    "df_train.shape"
   ]
  },
  {
   "cell_type": "markdown",
   "metadata": {},
   "source": [
    "df_train Notes:\n",
    "\n",
    "    * no duplicates\n",
    "    * all columns except date are float type\n",
    "    * date column is object type. Needs to be datetype\n",
    "    * there are missing values for columns "
   ]
  },
  {
   "cell_type": "code",
   "execution_count": 4,
   "metadata": {},
   "outputs": [
    {
     "name": "stdout",
     "output_type": "stream",
     "text": [
      "0\n"
     ]
    },
    {
     "data": {
      "text/plain": [
       "date                                            0\n",
       "primary_cleaner.input.sulfate                 302\n",
       "primary_cleaner.input.depressant              284\n",
       "primary_cleaner.input.feed_size                 0\n",
       "primary_cleaner.input.xanthate                166\n",
       "primary_cleaner.state.floatbank8_a_air         16\n",
       "primary_cleaner.state.floatbank8_a_level       16\n",
       "primary_cleaner.state.floatbank8_b_air         16\n",
       "primary_cleaner.state.floatbank8_b_level       16\n",
       "primary_cleaner.state.floatbank8_c_air         16\n",
       "primary_cleaner.state.floatbank8_c_level       16\n",
       "primary_cleaner.state.floatbank8_d_air         16\n",
       "primary_cleaner.state.floatbank8_d_level       16\n",
       "rougher.input.feed_ag                          16\n",
       "rougher.input.feed_pb                          16\n",
       "rougher.input.feed_rate                        40\n",
       "rougher.input.feed_size                        22\n",
       "rougher.input.feed_sol                         67\n",
       "rougher.input.feed_au                          16\n",
       "rougher.input.floatbank10_sulfate             257\n",
       "rougher.input.floatbank10_xanthate            123\n",
       "rougher.input.floatbank11_sulfate              55\n",
       "rougher.input.floatbank11_xanthate            353\n",
       "rougher.state.floatbank10_a_air                17\n",
       "rougher.state.floatbank10_a_level              16\n",
       "rougher.state.floatbank10_b_air                17\n",
       "rougher.state.floatbank10_b_level              16\n",
       "rougher.state.floatbank10_c_air                17\n",
       "rougher.state.floatbank10_c_level              16\n",
       "rougher.state.floatbank10_d_air                17\n",
       "rougher.state.floatbank10_d_level              16\n",
       "rougher.state.floatbank10_e_air                17\n",
       "rougher.state.floatbank10_e_level              16\n",
       "rougher.state.floatbank10_f_air                17\n",
       "rougher.state.floatbank10_f_level              16\n",
       "secondary_cleaner.state.floatbank2_a_air       20\n",
       "secondary_cleaner.state.floatbank2_a_level     16\n",
       "secondary_cleaner.state.floatbank2_b_air       23\n",
       "secondary_cleaner.state.floatbank2_b_level     16\n",
       "secondary_cleaner.state.floatbank3_a_air       34\n",
       "secondary_cleaner.state.floatbank3_a_level     16\n",
       "secondary_cleaner.state.floatbank3_b_air       16\n",
       "secondary_cleaner.state.floatbank3_b_level     16\n",
       "secondary_cleaner.state.floatbank4_a_air       16\n",
       "secondary_cleaner.state.floatbank4_a_level     16\n",
       "secondary_cleaner.state.floatbank4_b_air       16\n",
       "secondary_cleaner.state.floatbank4_b_level     16\n",
       "secondary_cleaner.state.floatbank5_a_air       16\n",
       "secondary_cleaner.state.floatbank5_a_level     16\n",
       "secondary_cleaner.state.floatbank5_b_air       16\n",
       "secondary_cleaner.state.floatbank5_b_level     16\n",
       "secondary_cleaner.state.floatbank6_a_air       16\n",
       "secondary_cleaner.state.floatbank6_a_level     16\n",
       "dtype: int64"
      ]
     },
     "metadata": {},
     "output_type": "display_data"
    },
    {
     "name": "stdout",
     "output_type": "stream",
     "text": [
      "<class 'pandas.core.frame.DataFrame'>\n",
      "RangeIndex: 5856 entries, 0 to 5855\n",
      "Data columns (total 53 columns):\n",
      " #   Column                                      Non-Null Count  Dtype  \n",
      "---  ------                                      --------------  -----  \n",
      " 0   date                                        5856 non-null   object \n",
      " 1   primary_cleaner.input.sulfate               5554 non-null   float64\n",
      " 2   primary_cleaner.input.depressant            5572 non-null   float64\n",
      " 3   primary_cleaner.input.feed_size             5856 non-null   float64\n",
      " 4   primary_cleaner.input.xanthate              5690 non-null   float64\n",
      " 5   primary_cleaner.state.floatbank8_a_air      5840 non-null   float64\n",
      " 6   primary_cleaner.state.floatbank8_a_level    5840 non-null   float64\n",
      " 7   primary_cleaner.state.floatbank8_b_air      5840 non-null   float64\n",
      " 8   primary_cleaner.state.floatbank8_b_level    5840 non-null   float64\n",
      " 9   primary_cleaner.state.floatbank8_c_air      5840 non-null   float64\n",
      " 10  primary_cleaner.state.floatbank8_c_level    5840 non-null   float64\n",
      " 11  primary_cleaner.state.floatbank8_d_air      5840 non-null   float64\n",
      " 12  primary_cleaner.state.floatbank8_d_level    5840 non-null   float64\n",
      " 13  rougher.input.feed_ag                       5840 non-null   float64\n",
      " 14  rougher.input.feed_pb                       5840 non-null   float64\n",
      " 15  rougher.input.feed_rate                     5816 non-null   float64\n",
      " 16  rougher.input.feed_size                     5834 non-null   float64\n",
      " 17  rougher.input.feed_sol                      5789 non-null   float64\n",
      " 18  rougher.input.feed_au                       5840 non-null   float64\n",
      " 19  rougher.input.floatbank10_sulfate           5599 non-null   float64\n",
      " 20  rougher.input.floatbank10_xanthate          5733 non-null   float64\n",
      " 21  rougher.input.floatbank11_sulfate           5801 non-null   float64\n",
      " 22  rougher.input.floatbank11_xanthate          5503 non-null   float64\n",
      " 23  rougher.state.floatbank10_a_air             5839 non-null   float64\n",
      " 24  rougher.state.floatbank10_a_level           5840 non-null   float64\n",
      " 25  rougher.state.floatbank10_b_air             5839 non-null   float64\n",
      " 26  rougher.state.floatbank10_b_level           5840 non-null   float64\n",
      " 27  rougher.state.floatbank10_c_air             5839 non-null   float64\n",
      " 28  rougher.state.floatbank10_c_level           5840 non-null   float64\n",
      " 29  rougher.state.floatbank10_d_air             5839 non-null   float64\n",
      " 30  rougher.state.floatbank10_d_level           5840 non-null   float64\n",
      " 31  rougher.state.floatbank10_e_air             5839 non-null   float64\n",
      " 32  rougher.state.floatbank10_e_level           5840 non-null   float64\n",
      " 33  rougher.state.floatbank10_f_air             5839 non-null   float64\n",
      " 34  rougher.state.floatbank10_f_level           5840 non-null   float64\n",
      " 35  secondary_cleaner.state.floatbank2_a_air    5836 non-null   float64\n",
      " 36  secondary_cleaner.state.floatbank2_a_level  5840 non-null   float64\n",
      " 37  secondary_cleaner.state.floatbank2_b_air    5833 non-null   float64\n",
      " 38  secondary_cleaner.state.floatbank2_b_level  5840 non-null   float64\n",
      " 39  secondary_cleaner.state.floatbank3_a_air    5822 non-null   float64\n",
      " 40  secondary_cleaner.state.floatbank3_a_level  5840 non-null   float64\n",
      " 41  secondary_cleaner.state.floatbank3_b_air    5840 non-null   float64\n",
      " 42  secondary_cleaner.state.floatbank3_b_level  5840 non-null   float64\n",
      " 43  secondary_cleaner.state.floatbank4_a_air    5840 non-null   float64\n",
      " 44  secondary_cleaner.state.floatbank4_a_level  5840 non-null   float64\n",
      " 45  secondary_cleaner.state.floatbank4_b_air    5840 non-null   float64\n",
      " 46  secondary_cleaner.state.floatbank4_b_level  5840 non-null   float64\n",
      " 47  secondary_cleaner.state.floatbank5_a_air    5840 non-null   float64\n",
      " 48  secondary_cleaner.state.floatbank5_a_level  5840 non-null   float64\n",
      " 49  secondary_cleaner.state.floatbank5_b_air    5840 non-null   float64\n",
      " 50  secondary_cleaner.state.floatbank5_b_level  5840 non-null   float64\n",
      " 51  secondary_cleaner.state.floatbank6_a_air    5840 non-null   float64\n",
      " 52  secondary_cleaner.state.floatbank6_a_level  5840 non-null   float64\n",
      "dtypes: float64(52), object(1)\n",
      "memory usage: 2.4+ MB\n"
     ]
    },
    {
     "data": {
      "text/plain": [
       "None"
      ]
     },
     "metadata": {},
     "output_type": "display_data"
    },
    {
     "data": {
      "text/html": [
       "<div>\n",
       "<style scoped>\n",
       "    .dataframe tbody tr th:only-of-type {\n",
       "        vertical-align: middle;\n",
       "    }\n",
       "\n",
       "    .dataframe tbody tr th {\n",
       "        vertical-align: top;\n",
       "    }\n",
       "\n",
       "    .dataframe thead th {\n",
       "        text-align: right;\n",
       "    }\n",
       "</style>\n",
       "<table border=\"1\" class=\"dataframe\">\n",
       "  <thead>\n",
       "    <tr style=\"text-align: right;\">\n",
       "      <th></th>\n",
       "      <th>date</th>\n",
       "      <th>primary_cleaner.input.sulfate</th>\n",
       "      <th>primary_cleaner.input.depressant</th>\n",
       "      <th>primary_cleaner.input.feed_size</th>\n",
       "      <th>primary_cleaner.input.xanthate</th>\n",
       "      <th>primary_cleaner.state.floatbank8_a_air</th>\n",
       "      <th>primary_cleaner.state.floatbank8_a_level</th>\n",
       "      <th>primary_cleaner.state.floatbank8_b_air</th>\n",
       "      <th>primary_cleaner.state.floatbank8_b_level</th>\n",
       "      <th>primary_cleaner.state.floatbank8_c_air</th>\n",
       "      <th>...</th>\n",
       "      <th>secondary_cleaner.state.floatbank4_a_air</th>\n",
       "      <th>secondary_cleaner.state.floatbank4_a_level</th>\n",
       "      <th>secondary_cleaner.state.floatbank4_b_air</th>\n",
       "      <th>secondary_cleaner.state.floatbank4_b_level</th>\n",
       "      <th>secondary_cleaner.state.floatbank5_a_air</th>\n",
       "      <th>secondary_cleaner.state.floatbank5_a_level</th>\n",
       "      <th>secondary_cleaner.state.floatbank5_b_air</th>\n",
       "      <th>secondary_cleaner.state.floatbank5_b_level</th>\n",
       "      <th>secondary_cleaner.state.floatbank6_a_air</th>\n",
       "      <th>secondary_cleaner.state.floatbank6_a_level</th>\n",
       "    </tr>\n",
       "  </thead>\n",
       "  <tbody>\n",
       "    <tr>\n",
       "      <th>4693</th>\n",
       "      <td>2017-11-13 13:59:59</td>\n",
       "      <td>93.518876</td>\n",
       "      <td>7.556717</td>\n",
       "      <td>6.420001</td>\n",
       "      <td>1.620380</td>\n",
       "      <td>1597.718093</td>\n",
       "      <td>-500.497140</td>\n",
       "      <td>1599.758669</td>\n",
       "      <td>-504.318956</td>\n",
       "      <td>1555.293833</td>\n",
       "      <td>...</td>\n",
       "      <td>16.970037</td>\n",
       "      <td>-499.611970</td>\n",
       "      <td>9.947733</td>\n",
       "      <td>-500.396242</td>\n",
       "      <td>11.004675</td>\n",
       "      <td>-500.120158</td>\n",
       "      <td>9.037721</td>\n",
       "      <td>-499.878487</td>\n",
       "      <td>16.008578</td>\n",
       "      <td>-499.592003</td>\n",
       "    </tr>\n",
       "    <tr>\n",
       "      <th>737</th>\n",
       "      <td>2016-10-01 17:59:59</td>\n",
       "      <td>123.304232</td>\n",
       "      <td>3.028728</td>\n",
       "      <td>7.570000</td>\n",
       "      <td>0.796412</td>\n",
       "      <td>1600.707313</td>\n",
       "      <td>-499.492447</td>\n",
       "      <td>1601.002621</td>\n",
       "      <td>-499.672356</td>\n",
       "      <td>1598.171203</td>\n",
       "      <td>...</td>\n",
       "      <td>11.957339</td>\n",
       "      <td>-503.472634</td>\n",
       "      <td>9.968715</td>\n",
       "      <td>-500.644178</td>\n",
       "      <td>9.887490</td>\n",
       "      <td>-500.808703</td>\n",
       "      <td>5.027282</td>\n",
       "      <td>-499.707130</td>\n",
       "      <td>20.027014</td>\n",
       "      <td>-500.930736</td>\n",
       "    </tr>\n",
       "    <tr>\n",
       "      <th>4851</th>\n",
       "      <td>2017-11-20 03:59:59</td>\n",
       "      <td>240.025424</td>\n",
       "      <td>7.999378</td>\n",
       "      <td>6.890000</td>\n",
       "      <td>3.994639</td>\n",
       "      <td>1596.682112</td>\n",
       "      <td>-500.329323</td>\n",
       "      <td>1604.859250</td>\n",
       "      <td>-501.632531</td>\n",
       "      <td>1599.419505</td>\n",
       "      <td>...</td>\n",
       "      <td>18.996176</td>\n",
       "      <td>-497.174666</td>\n",
       "      <td>17.100420</td>\n",
       "      <td>-499.984860</td>\n",
       "      <td>12.966601</td>\n",
       "      <td>-497.787214</td>\n",
       "      <td>11.008787</td>\n",
       "      <td>-500.193101</td>\n",
       "      <td>15.997754</td>\n",
       "      <td>-496.697108</td>\n",
       "    </tr>\n",
       "    <tr>\n",
       "      <th>2501</th>\n",
       "      <td>2016-12-14 05:59:59</td>\n",
       "      <td>187.629721</td>\n",
       "      <td>9.507776</td>\n",
       "      <td>7.490000</td>\n",
       "      <td>1.501650</td>\n",
       "      <td>1604.188085</td>\n",
       "      <td>-500.069170</td>\n",
       "      <td>1558.890454</td>\n",
       "      <td>-500.206736</td>\n",
       "      <td>1599.861211</td>\n",
       "      <td>...</td>\n",
       "      <td>16.987254</td>\n",
       "      <td>-500.014540</td>\n",
       "      <td>14.964372</td>\n",
       "      <td>-499.299001</td>\n",
       "      <td>18.583240</td>\n",
       "      <td>-500.796379</td>\n",
       "      <td>11.989990</td>\n",
       "      <td>-499.873340</td>\n",
       "      <td>20.994691</td>\n",
       "      <td>-499.876641</td>\n",
       "    </tr>\n",
       "    <tr>\n",
       "      <th>3785</th>\n",
       "      <td>2017-10-06 17:59:59</td>\n",
       "      <td>NaN</td>\n",
       "      <td>NaN</td>\n",
       "      <td>6.810000</td>\n",
       "      <td>0.007184</td>\n",
       "      <td>1451.291298</td>\n",
       "      <td>-500.651615</td>\n",
       "      <td>1449.243004</td>\n",
       "      <td>-499.190715</td>\n",
       "      <td>1447.269130</td>\n",
       "      <td>...</td>\n",
       "      <td>16.985673</td>\n",
       "      <td>-499.480024</td>\n",
       "      <td>15.097257</td>\n",
       "      <td>-399.774112</td>\n",
       "      <td>11.977199</td>\n",
       "      <td>-500.451825</td>\n",
       "      <td>8.999026</td>\n",
       "      <td>-499.979876</td>\n",
       "      <td>13.009877</td>\n",
       "      <td>-499.883635</td>\n",
       "    </tr>\n",
       "  </tbody>\n",
       "</table>\n",
       "<p>5 rows × 53 columns</p>\n",
       "</div>"
      ],
      "text/plain": [
       "                     date  primary_cleaner.input.sulfate  \\\n",
       "4693  2017-11-13 13:59:59                      93.518876   \n",
       "737   2016-10-01 17:59:59                     123.304232   \n",
       "4851  2017-11-20 03:59:59                     240.025424   \n",
       "2501  2016-12-14 05:59:59                     187.629721   \n",
       "3785  2017-10-06 17:59:59                            NaN   \n",
       "\n",
       "      primary_cleaner.input.depressant  primary_cleaner.input.feed_size  \\\n",
       "4693                          7.556717                         6.420001   \n",
       "737                           3.028728                         7.570000   \n",
       "4851                          7.999378                         6.890000   \n",
       "2501                          9.507776                         7.490000   \n",
       "3785                               NaN                         6.810000   \n",
       "\n",
       "      primary_cleaner.input.xanthate  primary_cleaner.state.floatbank8_a_air  \\\n",
       "4693                        1.620380                             1597.718093   \n",
       "737                         0.796412                             1600.707313   \n",
       "4851                        3.994639                             1596.682112   \n",
       "2501                        1.501650                             1604.188085   \n",
       "3785                        0.007184                             1451.291298   \n",
       "\n",
       "      primary_cleaner.state.floatbank8_a_level  \\\n",
       "4693                               -500.497140   \n",
       "737                                -499.492447   \n",
       "4851                               -500.329323   \n",
       "2501                               -500.069170   \n",
       "3785                               -500.651615   \n",
       "\n",
       "      primary_cleaner.state.floatbank8_b_air  \\\n",
       "4693                             1599.758669   \n",
       "737                              1601.002621   \n",
       "4851                             1604.859250   \n",
       "2501                             1558.890454   \n",
       "3785                             1449.243004   \n",
       "\n",
       "      primary_cleaner.state.floatbank8_b_level  \\\n",
       "4693                               -504.318956   \n",
       "737                                -499.672356   \n",
       "4851                               -501.632531   \n",
       "2501                               -500.206736   \n",
       "3785                               -499.190715   \n",
       "\n",
       "      primary_cleaner.state.floatbank8_c_air  ...  \\\n",
       "4693                             1555.293833  ...   \n",
       "737                              1598.171203  ...   \n",
       "4851                             1599.419505  ...   \n",
       "2501                             1599.861211  ...   \n",
       "3785                             1447.269130  ...   \n",
       "\n",
       "      secondary_cleaner.state.floatbank4_a_air  \\\n",
       "4693                                 16.970037   \n",
       "737                                  11.957339   \n",
       "4851                                 18.996176   \n",
       "2501                                 16.987254   \n",
       "3785                                 16.985673   \n",
       "\n",
       "      secondary_cleaner.state.floatbank4_a_level  \\\n",
       "4693                                 -499.611970   \n",
       "737                                  -503.472634   \n",
       "4851                                 -497.174666   \n",
       "2501                                 -500.014540   \n",
       "3785                                 -499.480024   \n",
       "\n",
       "      secondary_cleaner.state.floatbank4_b_air  \\\n",
       "4693                                  9.947733   \n",
       "737                                   9.968715   \n",
       "4851                                 17.100420   \n",
       "2501                                 14.964372   \n",
       "3785                                 15.097257   \n",
       "\n",
       "      secondary_cleaner.state.floatbank4_b_level  \\\n",
       "4693                                 -500.396242   \n",
       "737                                  -500.644178   \n",
       "4851                                 -499.984860   \n",
       "2501                                 -499.299001   \n",
       "3785                                 -399.774112   \n",
       "\n",
       "      secondary_cleaner.state.floatbank5_a_air  \\\n",
       "4693                                 11.004675   \n",
       "737                                   9.887490   \n",
       "4851                                 12.966601   \n",
       "2501                                 18.583240   \n",
       "3785                                 11.977199   \n",
       "\n",
       "      secondary_cleaner.state.floatbank5_a_level  \\\n",
       "4693                                 -500.120158   \n",
       "737                                  -500.808703   \n",
       "4851                                 -497.787214   \n",
       "2501                                 -500.796379   \n",
       "3785                                 -500.451825   \n",
       "\n",
       "      secondary_cleaner.state.floatbank5_b_air  \\\n",
       "4693                                  9.037721   \n",
       "737                                   5.027282   \n",
       "4851                                 11.008787   \n",
       "2501                                 11.989990   \n",
       "3785                                  8.999026   \n",
       "\n",
       "      secondary_cleaner.state.floatbank5_b_level  \\\n",
       "4693                                 -499.878487   \n",
       "737                                  -499.707130   \n",
       "4851                                 -500.193101   \n",
       "2501                                 -499.873340   \n",
       "3785                                 -499.979876   \n",
       "\n",
       "      secondary_cleaner.state.floatbank6_a_air  \\\n",
       "4693                                 16.008578   \n",
       "737                                  20.027014   \n",
       "4851                                 15.997754   \n",
       "2501                                 20.994691   \n",
       "3785                                 13.009877   \n",
       "\n",
       "      secondary_cleaner.state.floatbank6_a_level  \n",
       "4693                                 -499.592003  \n",
       "737                                  -500.930736  \n",
       "4851                                 -496.697108  \n",
       "2501                                 -499.876641  \n",
       "3785                                 -499.883635  \n",
       "\n",
       "[5 rows x 53 columns]"
      ]
     },
     "execution_count": 4,
     "metadata": {},
     "output_type": "execute_result"
    }
   ],
   "source": [
    "print(df_test.duplicated().sum())\n",
    "display(df_test.isna().sum())\n",
    "display(df_test.info())\n",
    "df_test.sample(5)"
   ]
  },
  {
   "cell_type": "markdown",
   "metadata": {},
   "source": [
    "df_test Notes:\n",
    "    same as df_train"
   ]
  },
  {
   "cell_type": "code",
   "execution_count": 5,
   "metadata": {
    "scrolled": true
   },
   "outputs": [
    {
     "name": "stdout",
     "output_type": "stream",
     "text": [
      "0\n"
     ]
    },
    {
     "data": {
      "text/plain": [
       "date                                            0\n",
       "final.output.concentrate_ag                    89\n",
       "final.output.concentrate_pb                    87\n",
       "final.output.concentrate_sol                  385\n",
       "final.output.concentrate_au                    86\n",
       "                                             ... \n",
       "secondary_cleaner.state.floatbank5_a_level    101\n",
       "secondary_cleaner.state.floatbank5_b_air      101\n",
       "secondary_cleaner.state.floatbank5_b_level    100\n",
       "secondary_cleaner.state.floatbank6_a_air      119\n",
       "secondary_cleaner.state.floatbank6_a_level    101\n",
       "Length: 87, dtype: int64"
      ]
     },
     "metadata": {},
     "output_type": "display_data"
    },
    {
     "name": "stdout",
     "output_type": "stream",
     "text": [
      "<class 'pandas.core.frame.DataFrame'>\n",
      "RangeIndex: 22716 entries, 0 to 22715\n",
      "Data columns (total 87 columns):\n",
      " #   Column                                              Non-Null Count  Dtype  \n",
      "---  ------                                              --------------  -----  \n",
      " 0   date                                                22716 non-null  object \n",
      " 1   final.output.concentrate_ag                         22627 non-null  float64\n",
      " 2   final.output.concentrate_pb                         22629 non-null  float64\n",
      " 3   final.output.concentrate_sol                        22331 non-null  float64\n",
      " 4   final.output.concentrate_au                         22630 non-null  float64\n",
      " 5   final.output.recovery                               20753 non-null  float64\n",
      " 6   final.output.tail_ag                                22633 non-null  float64\n",
      " 7   final.output.tail_pb                                22516 non-null  float64\n",
      " 8   final.output.tail_sol                               22445 non-null  float64\n",
      " 9   final.output.tail_au                                22635 non-null  float64\n",
      " 10  primary_cleaner.input.sulfate                       21107 non-null  float64\n",
      " 11  primary_cleaner.input.depressant                    21170 non-null  float64\n",
      " 12  primary_cleaner.input.feed_size                     22716 non-null  float64\n",
      " 13  primary_cleaner.input.xanthate                      21565 non-null  float64\n",
      " 14  primary_cleaner.output.concentrate_ag               22618 non-null  float64\n",
      " 15  primary_cleaner.output.concentrate_pb               22268 non-null  float64\n",
      " 16  primary_cleaner.output.concentrate_sol              21918 non-null  float64\n",
      " 17  primary_cleaner.output.concentrate_au               22618 non-null  float64\n",
      " 18  primary_cleaner.output.tail_ag                      22614 non-null  float64\n",
      " 19  primary_cleaner.output.tail_pb                      22594 non-null  float64\n",
      " 20  primary_cleaner.output.tail_sol                     22365 non-null  float64\n",
      " 21  primary_cleaner.output.tail_au                      22617 non-null  float64\n",
      " 22  primary_cleaner.state.floatbank8_a_air              22660 non-null  float64\n",
      " 23  primary_cleaner.state.floatbank8_a_level            22667 non-null  float64\n",
      " 24  primary_cleaner.state.floatbank8_b_air              22660 non-null  float64\n",
      " 25  primary_cleaner.state.floatbank8_b_level            22673 non-null  float64\n",
      " 26  primary_cleaner.state.floatbank8_c_air              22662 non-null  float64\n",
      " 27  primary_cleaner.state.floatbank8_c_level            22673 non-null  float64\n",
      " 28  primary_cleaner.state.floatbank8_d_air              22661 non-null  float64\n",
      " 29  primary_cleaner.state.floatbank8_d_level            22673 non-null  float64\n",
      " 30  rougher.calculation.sulfate_to_au_concentrate       22672 non-null  float64\n",
      " 31  rougher.calculation.floatbank10_sulfate_to_au_feed  22672 non-null  float64\n",
      " 32  rougher.calculation.floatbank11_sulfate_to_au_feed  22672 non-null  float64\n",
      " 33  rougher.calculation.au_pb_ratio                     21089 non-null  float64\n",
      " 34  rougher.input.feed_ag                               22618 non-null  float64\n",
      " 35  rougher.input.feed_pb                               22472 non-null  float64\n",
      " 36  rougher.input.feed_rate                             22163 non-null  float64\n",
      " 37  rougher.input.feed_size                             22277 non-null  float64\n",
      " 38  rougher.input.feed_sol                              22357 non-null  float64\n",
      " 39  rougher.input.feed_au                               22617 non-null  float64\n",
      " 40  rougher.input.floatbank10_sulfate                   21415 non-null  float64\n",
      " 41  rougher.input.floatbank10_xanthate                  22247 non-null  float64\n",
      " 42  rougher.input.floatbank11_sulfate                   22038 non-null  float64\n",
      " 43  rougher.input.floatbank11_xanthate                  20459 non-null  float64\n",
      " 44  rougher.output.concentrate_ag                       22618 non-null  float64\n",
      " 45  rougher.output.concentrate_pb                       22618 non-null  float64\n",
      " 46  rougher.output.concentrate_sol                      22526 non-null  float64\n",
      " 47  rougher.output.concentrate_au                       22618 non-null  float64\n",
      " 48  rougher.output.recovery                             19597 non-null  float64\n",
      " 49  rougher.output.tail_ag                              19979 non-null  float64\n",
      " 50  rougher.output.tail_pb                              22618 non-null  float64\n",
      " 51  rougher.output.tail_sol                             19980 non-null  float64\n",
      " 52  rougher.output.tail_au                              19980 non-null  float64\n",
      " 53  rougher.state.floatbank10_a_air                     22646 non-null  float64\n",
      " 54  rougher.state.floatbank10_a_level                   22647 non-null  float64\n",
      " 55  rougher.state.floatbank10_b_air                     22646 non-null  float64\n",
      " 56  rougher.state.floatbank10_b_level                   22647 non-null  float64\n",
      " 57  rougher.state.floatbank10_c_air                     22646 non-null  float64\n",
      " 58  rougher.state.floatbank10_c_level                   22654 non-null  float64\n",
      " 59  rougher.state.floatbank10_d_air                     22641 non-null  float64\n",
      " 60  rougher.state.floatbank10_d_level                   22649 non-null  float64\n",
      " 61  rougher.state.floatbank10_e_air                     22096 non-null  float64\n",
      " 62  rougher.state.floatbank10_e_level                   22649 non-null  float64\n",
      " 63  rougher.state.floatbank10_f_air                     22641 non-null  float64\n",
      " 64  rougher.state.floatbank10_f_level                   22642 non-null  float64\n",
      " 65  secondary_cleaner.output.tail_ag                    22616 non-null  float64\n",
      " 66  secondary_cleaner.output.tail_pb                    22600 non-null  float64\n",
      " 67  secondary_cleaner.output.tail_sol                   20501 non-null  float64\n",
      " 68  secondary_cleaner.output.tail_au                    22618 non-null  float64\n",
      " 69  secondary_cleaner.state.floatbank2_a_air            22333 non-null  float64\n",
      " 70  secondary_cleaner.state.floatbank2_a_level          22591 non-null  float64\n",
      " 71  secondary_cleaner.state.floatbank2_b_air            22538 non-null  float64\n",
      " 72  secondary_cleaner.state.floatbank2_b_level          22588 non-null  float64\n",
      " 73  secondary_cleaner.state.floatbank3_a_air            22585 non-null  float64\n",
      " 74  secondary_cleaner.state.floatbank3_a_level          22587 non-null  float64\n",
      " 75  secondary_cleaner.state.floatbank3_b_air            22592 non-null  float64\n",
      " 76  secondary_cleaner.state.floatbank3_b_level          22590 non-null  float64\n",
      " 77  secondary_cleaner.state.floatbank4_a_air            22571 non-null  float64\n",
      " 78  secondary_cleaner.state.floatbank4_a_level          22587 non-null  float64\n",
      " 79  secondary_cleaner.state.floatbank4_b_air            22608 non-null  float64\n",
      " 80  secondary_cleaner.state.floatbank4_b_level          22607 non-null  float64\n",
      " 81  secondary_cleaner.state.floatbank5_a_air            22615 non-null  float64\n",
      " 82  secondary_cleaner.state.floatbank5_a_level          22615 non-null  float64\n",
      " 83  secondary_cleaner.state.floatbank5_b_air            22615 non-null  float64\n",
      " 84  secondary_cleaner.state.floatbank5_b_level          22616 non-null  float64\n",
      " 85  secondary_cleaner.state.floatbank6_a_air            22597 non-null  float64\n",
      " 86  secondary_cleaner.state.floatbank6_a_level          22615 non-null  float64\n",
      "dtypes: float64(86), object(1)\n",
      "memory usage: 15.1+ MB\n"
     ]
    },
    {
     "data": {
      "text/plain": [
       "None"
      ]
     },
     "metadata": {},
     "output_type": "display_data"
    },
    {
     "data": {
      "text/html": [
       "<div>\n",
       "<style scoped>\n",
       "    .dataframe tbody tr th:only-of-type {\n",
       "        vertical-align: middle;\n",
       "    }\n",
       "\n",
       "    .dataframe tbody tr th {\n",
       "        vertical-align: top;\n",
       "    }\n",
       "\n",
       "    .dataframe thead th {\n",
       "        text-align: right;\n",
       "    }\n",
       "</style>\n",
       "<table border=\"1\" class=\"dataframe\">\n",
       "  <thead>\n",
       "    <tr style=\"text-align: right;\">\n",
       "      <th></th>\n",
       "      <th>date</th>\n",
       "      <th>final.output.concentrate_ag</th>\n",
       "      <th>final.output.concentrate_pb</th>\n",
       "      <th>final.output.concentrate_sol</th>\n",
       "      <th>final.output.concentrate_au</th>\n",
       "      <th>final.output.recovery</th>\n",
       "      <th>final.output.tail_ag</th>\n",
       "      <th>final.output.tail_pb</th>\n",
       "      <th>final.output.tail_sol</th>\n",
       "      <th>final.output.tail_au</th>\n",
       "      <th>...</th>\n",
       "      <th>secondary_cleaner.state.floatbank4_a_air</th>\n",
       "      <th>secondary_cleaner.state.floatbank4_a_level</th>\n",
       "      <th>secondary_cleaner.state.floatbank4_b_air</th>\n",
       "      <th>secondary_cleaner.state.floatbank4_b_level</th>\n",
       "      <th>secondary_cleaner.state.floatbank5_a_air</th>\n",
       "      <th>secondary_cleaner.state.floatbank5_a_level</th>\n",
       "      <th>secondary_cleaner.state.floatbank5_b_air</th>\n",
       "      <th>secondary_cleaner.state.floatbank5_b_level</th>\n",
       "      <th>secondary_cleaner.state.floatbank6_a_air</th>\n",
       "      <th>secondary_cleaner.state.floatbank6_a_level</th>\n",
       "    </tr>\n",
       "  </thead>\n",
       "  <tbody>\n",
       "    <tr>\n",
       "      <th>6363</th>\n",
       "      <td>2016-10-06 02:59:59</td>\n",
       "      <td>7.908182</td>\n",
       "      <td>9.426197</td>\n",
       "      <td>15.447121</td>\n",
       "      <td>41.594259</td>\n",
       "      <td>71.457835</td>\n",
       "      <td>12.362357</td>\n",
       "      <td>3.382546</td>\n",
       "      <td>10.122370</td>\n",
       "      <td>3.943042</td>\n",
       "      <td>...</td>\n",
       "      <td>14.058742</td>\n",
       "      <td>-500.966346</td>\n",
       "      <td>12.982735</td>\n",
       "      <td>-502.717532</td>\n",
       "      <td>10.515301</td>\n",
       "      <td>-499.117410</td>\n",
       "      <td>7.911877</td>\n",
       "      <td>-500.865407</td>\n",
       "      <td>17.969385</td>\n",
       "      <td>-499.587684</td>\n",
       "    </tr>\n",
       "    <tr>\n",
       "      <th>2435</th>\n",
       "      <td>2016-04-25 10:59:59</td>\n",
       "      <td>10.426852</td>\n",
       "      <td>9.456644</td>\n",
       "      <td>13.469811</td>\n",
       "      <td>37.231711</td>\n",
       "      <td>69.516733</td>\n",
       "      <td>14.814849</td>\n",
       "      <td>4.214450</td>\n",
       "      <td>9.771083</td>\n",
       "      <td>4.907739</td>\n",
       "      <td>...</td>\n",
       "      <td>11.930881</td>\n",
       "      <td>-632.227492</td>\n",
       "      <td>10.033064</td>\n",
       "      <td>-482.276098</td>\n",
       "      <td>8.976966</td>\n",
       "      <td>-502.971213</td>\n",
       "      <td>9.020569</td>\n",
       "      <td>-499.654909</td>\n",
       "      <td>14.021964</td>\n",
       "      <td>-504.474362</td>\n",
       "    </tr>\n",
       "    <tr>\n",
       "      <th>10844</th>\n",
       "      <td>2017-04-10 19:59:59</td>\n",
       "      <td>5.666434</td>\n",
       "      <td>9.304283</td>\n",
       "      <td>10.474199</td>\n",
       "      <td>44.687978</td>\n",
       "      <td>70.437924</td>\n",
       "      <td>10.180734</td>\n",
       "      <td>3.180588</td>\n",
       "      <td>9.647605</td>\n",
       "      <td>2.831395</td>\n",
       "      <td>...</td>\n",
       "      <td>25.049905</td>\n",
       "      <td>-399.154570</td>\n",
       "      <td>23.057945</td>\n",
       "      <td>-399.334253</td>\n",
       "      <td>25.978695</td>\n",
       "      <td>-450.194636</td>\n",
       "      <td>24.006776</td>\n",
       "      <td>-449.916716</td>\n",
       "      <td>30.018393</td>\n",
       "      <td>-500.627031</td>\n",
       "    </tr>\n",
       "    <tr>\n",
       "      <th>21356</th>\n",
       "      <td>2018-06-22 19:59:59</td>\n",
       "      <td>5.208671</td>\n",
       "      <td>6.665843</td>\n",
       "      <td>6.887685</td>\n",
       "      <td>47.638280</td>\n",
       "      <td>52.121155</td>\n",
       "      <td>10.729173</td>\n",
       "      <td>2.773377</td>\n",
       "      <td>10.598327</td>\n",
       "      <td>5.538409</td>\n",
       "      <td>...</td>\n",
       "      <td>30.058963</td>\n",
       "      <td>-490.856881</td>\n",
       "      <td>23.015530</td>\n",
       "      <td>-437.841942</td>\n",
       "      <td>18.016425</td>\n",
       "      <td>-499.644957</td>\n",
       "      <td>14.016722</td>\n",
       "      <td>-500.041061</td>\n",
       "      <td>14.000480</td>\n",
       "      <td>-517.256434</td>\n",
       "    </tr>\n",
       "    <tr>\n",
       "      <th>20133</th>\n",
       "      <td>2018-05-02 20:59:59</td>\n",
       "      <td>7.319661</td>\n",
       "      <td>6.367766</td>\n",
       "      <td>8.597683</td>\n",
       "      <td>46.612522</td>\n",
       "      <td>NaN</td>\n",
       "      <td>8.090310</td>\n",
       "      <td>NaN</td>\n",
       "      <td>9.713062</td>\n",
       "      <td>0.635834</td>\n",
       "      <td>...</td>\n",
       "      <td>29.975950</td>\n",
       "      <td>-499.522230</td>\n",
       "      <td>20.031591</td>\n",
       "      <td>-500.153556</td>\n",
       "      <td>25.019904</td>\n",
       "      <td>-499.405245</td>\n",
       "      <td>23.007641</td>\n",
       "      <td>-500.095416</td>\n",
       "      <td>24.987229</td>\n",
       "      <td>-498.834614</td>\n",
       "    </tr>\n",
       "  </tbody>\n",
       "</table>\n",
       "<p>5 rows × 87 columns</p>\n",
       "</div>"
      ],
      "text/plain": [
       "                      date  final.output.concentrate_ag  \\\n",
       "6363   2016-10-06 02:59:59                     7.908182   \n",
       "2435   2016-04-25 10:59:59                    10.426852   \n",
       "10844  2017-04-10 19:59:59                     5.666434   \n",
       "21356  2018-06-22 19:59:59                     5.208671   \n",
       "20133  2018-05-02 20:59:59                     7.319661   \n",
       "\n",
       "       final.output.concentrate_pb  final.output.concentrate_sol  \\\n",
       "6363                      9.426197                     15.447121   \n",
       "2435                      9.456644                     13.469811   \n",
       "10844                     9.304283                     10.474199   \n",
       "21356                     6.665843                      6.887685   \n",
       "20133                     6.367766                      8.597683   \n",
       "\n",
       "       final.output.concentrate_au  final.output.recovery  \\\n",
       "6363                     41.594259              71.457835   \n",
       "2435                     37.231711              69.516733   \n",
       "10844                    44.687978              70.437924   \n",
       "21356                    47.638280              52.121155   \n",
       "20133                    46.612522                    NaN   \n",
       "\n",
       "       final.output.tail_ag  final.output.tail_pb  final.output.tail_sol  \\\n",
       "6363              12.362357              3.382546              10.122370   \n",
       "2435              14.814849              4.214450               9.771083   \n",
       "10844             10.180734              3.180588               9.647605   \n",
       "21356             10.729173              2.773377              10.598327   \n",
       "20133              8.090310                   NaN               9.713062   \n",
       "\n",
       "       final.output.tail_au  ...  secondary_cleaner.state.floatbank4_a_air  \\\n",
       "6363               3.943042  ...                                 14.058742   \n",
       "2435               4.907739  ...                                 11.930881   \n",
       "10844              2.831395  ...                                 25.049905   \n",
       "21356              5.538409  ...                                 30.058963   \n",
       "20133              0.635834  ...                                 29.975950   \n",
       "\n",
       "       secondary_cleaner.state.floatbank4_a_level  \\\n",
       "6363                                  -500.966346   \n",
       "2435                                  -632.227492   \n",
       "10844                                 -399.154570   \n",
       "21356                                 -490.856881   \n",
       "20133                                 -499.522230   \n",
       "\n",
       "       secondary_cleaner.state.floatbank4_b_air  \\\n",
       "6363                                  12.982735   \n",
       "2435                                  10.033064   \n",
       "10844                                 23.057945   \n",
       "21356                                 23.015530   \n",
       "20133                                 20.031591   \n",
       "\n",
       "       secondary_cleaner.state.floatbank4_b_level  \\\n",
       "6363                                  -502.717532   \n",
       "2435                                  -482.276098   \n",
       "10844                                 -399.334253   \n",
       "21356                                 -437.841942   \n",
       "20133                                 -500.153556   \n",
       "\n",
       "       secondary_cleaner.state.floatbank5_a_air  \\\n",
       "6363                                  10.515301   \n",
       "2435                                   8.976966   \n",
       "10844                                 25.978695   \n",
       "21356                                 18.016425   \n",
       "20133                                 25.019904   \n",
       "\n",
       "       secondary_cleaner.state.floatbank5_a_level  \\\n",
       "6363                                  -499.117410   \n",
       "2435                                  -502.971213   \n",
       "10844                                 -450.194636   \n",
       "21356                                 -499.644957   \n",
       "20133                                 -499.405245   \n",
       "\n",
       "       secondary_cleaner.state.floatbank5_b_air  \\\n",
       "6363                                   7.911877   \n",
       "2435                                   9.020569   \n",
       "10844                                 24.006776   \n",
       "21356                                 14.016722   \n",
       "20133                                 23.007641   \n",
       "\n",
       "       secondary_cleaner.state.floatbank5_b_level  \\\n",
       "6363                                  -500.865407   \n",
       "2435                                  -499.654909   \n",
       "10844                                 -449.916716   \n",
       "21356                                 -500.041061   \n",
       "20133                                 -500.095416   \n",
       "\n",
       "       secondary_cleaner.state.floatbank6_a_air  \\\n",
       "6363                                  17.969385   \n",
       "2435                                  14.021964   \n",
       "10844                                 30.018393   \n",
       "21356                                 14.000480   \n",
       "20133                                 24.987229   \n",
       "\n",
       "       secondary_cleaner.state.floatbank6_a_level  \n",
       "6363                                  -499.587684  \n",
       "2435                                  -504.474362  \n",
       "10844                                 -500.627031  \n",
       "21356                                 -517.256434  \n",
       "20133                                 -498.834614  \n",
       "\n",
       "[5 rows x 87 columns]"
      ]
     },
     "execution_count": 5,
     "metadata": {},
     "output_type": "execute_result"
    }
   ],
   "source": [
    "print(df_source.duplicated().sum())\n",
    "display(df_source.isna().sum())\n",
    "display(df_source.info())\n",
    "df_source.sample(5)"
   ]
  },
  {
   "cell_type": "markdown",
   "metadata": {},
   "source": [
    "df_source Notes:\n",
    "    same as df_train"
   ]
  },
  {
   "cell_type": "markdown",
   "metadata": {},
   "source": [
    "<div class=\"alert alert-success\">\n",
    "<b>Reviewer's comment</b>\n",
    "\n",
    "The data was loaded and inspected\n",
    "\n",
    "</div>"
   ]
  },
  {
   "cell_type": "markdown",
   "metadata": {},
   "source": [
    "### calculate recovery for the rougher.output.recovery feature"
   ]
  },
  {
   "cell_type": "code",
   "execution_count": 6,
   "metadata": {
    "scrolled": true
   },
   "outputs": [
    {
     "data": {
      "text/plain": [
       "2573"
      ]
     },
     "execution_count": 6,
     "metadata": {},
     "output_type": "execute_result"
    }
   ],
   "source": [
    "# rougher.output.recovery column null values\n",
    "df_train['rougher.output.recovery'].isna().sum()"
   ]
  },
  {
   "cell_type": "code",
   "execution_count": 7,
   "metadata": {},
   "outputs": [
    {
     "data": {
      "text/plain": [
       "0"
      ]
     },
     "execution_count": 7,
     "metadata": {},
     "output_type": "execute_result"
    }
   ],
   "source": [
    "# drop null rows of columns 'rougher.output.recovery'\n",
    "#df_train_drop = df_train.dropna(subset=['rougher.output.recovery'])\n",
    "df_train_clear = df_train.dropna()\n",
    "df_train_clear['rougher.output.recovery'].isna().sum()"
   ]
  },
  {
   "cell_type": "code",
   "execution_count": 8,
   "metadata": {},
   "outputs": [],
   "source": [
    "#function for calulating recovery \n",
    "def recovery_calc(df, C, F, T):\n",
    "    recovery = ((df[C] * (df[F]-df[T])) / (df[F] * (df[C]-df[T]))) * 100\n",
    "    return recovery"
   ]
  },
  {
   "cell_type": "code",
   "execution_count": 9,
   "metadata": {},
   "outputs": [
    {
     "data": {
      "text/plain": [
       "0        87.107763\n",
       "1        86.843261\n",
       "2        86.842308\n",
       "3        87.226430\n",
       "4        86.688794\n",
       "           ...    \n",
       "16855    89.574376\n",
       "16856    87.724007\n",
       "16857    88.890579\n",
       "16858    89.858126\n",
       "16859    89.514960\n",
       "Length: 11017, dtype: float64"
      ]
     },
     "execution_count": 9,
     "metadata": {},
     "output_type": "execute_result"
    }
   ],
   "source": [
    "calculated_recovery = recovery_calc(df_train_clear, 'rougher.output.concentrate_au', 'rougher.input.feed_au', 'rougher.output.tail_au')\n",
    "calculated_recovery"
   ]
  },
  {
   "cell_type": "code",
   "execution_count": 10,
   "metadata": {
    "scrolled": true
   },
   "outputs": [
    {
     "data": {
      "text/plain": [
       "9.460144184559453e-15"
      ]
     },
     "execution_count": 10,
     "metadata": {},
     "output_type": "execute_result"
    }
   ],
   "source": [
    "# Find the MAE between your calculations and the feature values.\n",
    "mae = mean_absolute_error(df_train_clear['rougher.output.recovery'], calculated_recovery)\n",
    "mae"
   ]
  },
  {
   "cell_type": "markdown",
   "metadata": {},
   "source": [
    "mean error for 'rougher.output.recovery' between calculated and recorded is about 9*5^-15 units"
   ]
  },
  {
   "cell_type": "markdown",
   "metadata": {},
   "source": [
    "<div class=\"alert alert-success\">\n",
    "<b>Reviewer's comment</b>\n",
    "\n",
    "Recovery data was validated successfully!\n",
    "\n",
    "</div>"
   ]
  },
  {
   "cell_type": "markdown",
   "metadata": {},
   "source": [
    "### Analyze the features not available in the test set. "
   ]
  },
  {
   "cell_type": "code",
   "execution_count": 11,
   "metadata": {},
   "outputs": [
    {
     "data": {
      "text/plain": [
       "['final.output.concentrate_ag',\n",
       " 'final.output.concentrate_au',\n",
       " 'final.output.concentrate_pb',\n",
       " 'final.output.concentrate_sol',\n",
       " 'final.output.recovery',\n",
       " 'final.output.tail_ag',\n",
       " 'final.output.tail_au',\n",
       " 'final.output.tail_pb',\n",
       " 'final.output.tail_sol',\n",
       " 'primary_cleaner.output.concentrate_ag',\n",
       " 'primary_cleaner.output.concentrate_au',\n",
       " 'primary_cleaner.output.concentrate_pb',\n",
       " 'primary_cleaner.output.concentrate_sol',\n",
       " 'primary_cleaner.output.tail_ag',\n",
       " 'primary_cleaner.output.tail_au',\n",
       " 'primary_cleaner.output.tail_pb',\n",
       " 'primary_cleaner.output.tail_sol',\n",
       " 'rougher.calculation.au_pb_ratio',\n",
       " 'rougher.calculation.floatbank10_sulfate_to_au_feed',\n",
       " 'rougher.calculation.floatbank11_sulfate_to_au_feed',\n",
       " 'rougher.calculation.sulfate_to_au_concentrate',\n",
       " 'rougher.output.concentrate_ag',\n",
       " 'rougher.output.concentrate_au',\n",
       " 'rougher.output.concentrate_pb',\n",
       " 'rougher.output.concentrate_sol',\n",
       " 'rougher.output.recovery',\n",
       " 'rougher.output.tail_ag',\n",
       " 'rougher.output.tail_au',\n",
       " 'rougher.output.tail_pb',\n",
       " 'rougher.output.tail_sol',\n",
       " 'secondary_cleaner.output.tail_ag',\n",
       " 'secondary_cleaner.output.tail_au',\n",
       " 'secondary_cleaner.output.tail_pb',\n",
       " 'secondary_cleaner.output.tail_sol']"
      ]
     },
     "execution_count": 11,
     "metadata": {},
     "output_type": "execute_result"
    }
   ],
   "source": [
    "df_test_missing = df_train.columns.difference(df_test.columns).tolist()\n",
    "df_test_missing"
   ]
  },
  {
   "cell_type": "markdown",
   "metadata": {},
   "source": [
    "Notes:\n",
    "\n",
    "    * parameter types include the cleaners (primary and secondary), rougher and final outputs. As well as the rougher calculations\n",
    "    * these need to be dropped in the features df_train to ensure ml models can be trained and tested with the same parameters"
   ]
  },
  {
   "cell_type": "markdown",
   "metadata": {},
   "source": [
    "<div class=\"alert alert-success\">\n",
    "<b>Reviewer's comment</b>\n",
    "\n",
    "Yep, you are right!\n",
    "\n",
    "</div>"
   ]
  },
  {
   "cell_type": "markdown",
   "metadata": {},
   "source": [
    " ### Data preprocessing"
   ]
  },
  {
   "cell_type": "code",
   "execution_count": 12,
   "metadata": {},
   "outputs": [
    {
     "data": {
      "text/plain": [
       "15981    2018-07-12 20:59:59\n",
       "Name: date, dtype: object"
      ]
     },
     "execution_count": 12,
     "metadata": {},
     "output_type": "execute_result"
    }
   ],
   "source": [
    "df_train['date'].sample()"
   ]
  },
  {
   "cell_type": "code",
   "execution_count": 13,
   "metadata": {},
   "outputs": [],
   "source": [
    "# 'date' column to datetype for all 3 df\n",
    "df_train['date'] = pd.to_datetime(df_train['date'], format='%Y-%m-%d %H:%M:%S')\n",
    "df_test['date'] = pd.to_datetime(df_test['date'], format='%Y-%m-%d %H:%M:%S')\n",
    "df_source['date'] = pd.to_datetime(df_source['date'], format='%Y-%m-%d %H:%M:%S')"
   ]
  },
  {
   "cell_type": "code",
   "execution_count": 14,
   "metadata": {},
   "outputs": [
    {
     "data": {
      "text/plain": [
       "(14149, 87)"
      ]
     },
     "execution_count": 14,
     "metadata": {},
     "output_type": "execute_result"
    }
   ],
   "source": [
    "# drop missing target values \n",
    "df_train = df_train.dropna(subset=['final.output.recovery', 'rougher.output.recovery'])\n",
    "df_train.shape"
   ]
  },
  {
   "cell_type": "code",
   "execution_count": 15,
   "metadata": {},
   "outputs": [
    {
     "name": "stderr",
     "output_type": "stream",
     "text": [
      "/opt/conda/lib/python3.9/site-packages/pandas/core/groupby/generic.py:1404: FutureWarning: DataFrame.mean and DataFrame.median with numeric_only=None will include datetime64 and datetime64tz columns in a future version.\n",
      "  fast_path = lambda group: getattr(group, func)(*args, **kwargs)\n"
     ]
    }
   ],
   "source": [
    "# filling in missing values with groupby date mean\n",
    "df_train = df_train.fillna(df_train.groupby([df_train['date'].dt.date]).transform('mean').round(0))\n",
    "df_test = df_test.fillna(df_test.groupby([df_test['date'].dt.date]).transform('mean').round(0))\n",
    "df_source = df_source.fillna(df_source.groupby([df_source['date'].dt.date]).transform('mean').round(0))"
   ]
  },
  {
   "cell_type": "code",
   "execution_count": 16,
   "metadata": {
    "scrolled": true
   },
   "outputs": [
    {
     "data": {
      "text/plain": [
       "date                                          0\n",
       "primary_cleaner.input.sulfate                 0\n",
       "primary_cleaner.input.depressant              0\n",
       "primary_cleaner.input.feed_size               0\n",
       "primary_cleaner.input.xanthate                0\n",
       "primary_cleaner.state.floatbank8_a_air        0\n",
       "primary_cleaner.state.floatbank8_a_level      0\n",
       "primary_cleaner.state.floatbank8_b_air        0\n",
       "primary_cleaner.state.floatbank8_b_level      0\n",
       "primary_cleaner.state.floatbank8_c_air        0\n",
       "primary_cleaner.state.floatbank8_c_level      0\n",
       "primary_cleaner.state.floatbank8_d_air        0\n",
       "primary_cleaner.state.floatbank8_d_level      0\n",
       "rougher.input.feed_ag                         0\n",
       "rougher.input.feed_pb                         0\n",
       "rougher.input.feed_rate                       0\n",
       "rougher.input.feed_size                       0\n",
       "rougher.input.feed_sol                        0\n",
       "rougher.input.feed_au                         0\n",
       "rougher.input.floatbank10_sulfate             0\n",
       "rougher.input.floatbank10_xanthate            0\n",
       "rougher.input.floatbank11_sulfate             0\n",
       "rougher.input.floatbank11_xanthate            0\n",
       "rougher.state.floatbank10_a_air               0\n",
       "rougher.state.floatbank10_a_level             0\n",
       "rougher.state.floatbank10_b_air               0\n",
       "rougher.state.floatbank10_b_level             0\n",
       "rougher.state.floatbank10_c_air               0\n",
       "rougher.state.floatbank10_c_level             0\n",
       "rougher.state.floatbank10_d_air               0\n",
       "rougher.state.floatbank10_d_level             0\n",
       "rougher.state.floatbank10_e_air               0\n",
       "rougher.state.floatbank10_e_level             0\n",
       "rougher.state.floatbank10_f_air               0\n",
       "rougher.state.floatbank10_f_level             0\n",
       "secondary_cleaner.state.floatbank2_a_air      0\n",
       "secondary_cleaner.state.floatbank2_a_level    0\n",
       "secondary_cleaner.state.floatbank2_b_air      0\n",
       "secondary_cleaner.state.floatbank2_b_level    0\n",
       "secondary_cleaner.state.floatbank3_a_air      0\n",
       "secondary_cleaner.state.floatbank3_a_level    0\n",
       "secondary_cleaner.state.floatbank3_b_air      0\n",
       "secondary_cleaner.state.floatbank3_b_level    0\n",
       "secondary_cleaner.state.floatbank4_a_air      0\n",
       "secondary_cleaner.state.floatbank4_a_level    0\n",
       "secondary_cleaner.state.floatbank4_b_air      0\n",
       "secondary_cleaner.state.floatbank4_b_level    0\n",
       "secondary_cleaner.state.floatbank5_a_air      0\n",
       "secondary_cleaner.state.floatbank5_a_level    0\n",
       "secondary_cleaner.state.floatbank5_b_air      0\n",
       "secondary_cleaner.state.floatbank5_b_level    0\n",
       "secondary_cleaner.state.floatbank6_a_air      0\n",
       "secondary_cleaner.state.floatbank6_a_level    0\n",
       "dtype: int64"
      ]
     },
     "execution_count": 16,
     "metadata": {},
     "output_type": "execute_result"
    }
   ],
   "source": [
    "# dropping the remaining missing values in train and test set\n",
    "df_train = df_train.dropna()\n",
    "df_test = df_test.dropna()\n",
    "df_source = df_source.dropna()\n",
    "\n",
    "df_test.isna().sum()"
   ]
  },
  {
   "cell_type": "markdown",
   "metadata": {},
   "source": [
    "Part 1:\n",
    "\n",
    "    * data was reviewed and cleaned \n",
    "    * null values were replaced with means and the rest removed.\n"
   ]
  },
  {
   "cell_type": "markdown",
   "metadata": {},
   "source": [
    "<div class=\"alert alert-danger\">\n",
    "<s><b>Reviewer's comment</b>\n",
    "\n",
    "One important point here is that we need to drop missing targets before filling missing values in other columns, otherwise it won't be possible to accurately evaluate our models\n",
    "\n",
    "</div>"
   ]
  },
  {
   "cell_type": "markdown",
   "metadata": {},
   "source": [
    "<div class=\"alert alert-info\">\n",
    "  Got it. I dropped  missing target values and then filled in null values with means\n",
    "</div>"
   ]
  },
  {
   "cell_type": "markdown",
   "metadata": {},
   "source": [
    "<div class=\"alert alert-warning\">\n",
    "<b>Reviewer's comment V2</b>\n",
    "\n",
    "Hmm, but in the code you're dropping missing targets in the train set, then dropping all missing values in all three datasets, then filling missing values (which there would be none at this point) with means\n",
    "\n",
    "</div>"
   ]
  },
  {
   "cell_type": "markdown",
   "metadata": {},
   "source": [
    "<div class=\"alert alert-info\">\n",
    "Fixed it. \n",
    "</div>"
   ]
  },
  {
   "cell_type": "markdown",
   "metadata": {},
   "source": [
    "<div class=\"alert alert-success\">\n",
    "<b>Reviewer's comment V3</b>\n",
    "\n",
    "Great!\n",
    "\n",
    "</div>"
   ]
  },
  {
   "cell_type": "markdown",
   "metadata": {},
   "source": [
    "## Analyze the data"
   ]
  },
  {
   "cell_type": "markdown",
   "metadata": {},
   "source": [
    "### Take note of how the concentrations of metals (Au, Ag, Pb) change depending on the purification stage."
   ]
  },
  {
   "cell_type": "markdown",
   "metadata": {},
   "source": [
    "4 stages of concentrations: flotation(rougher input and output), primary cleaner, and final"
   ]
  },
  {
   "cell_type": "code",
   "execution_count": 17,
   "metadata": {},
   "outputs": [
    {
     "data": {
      "text/html": [
       "<div>\n",
       "<style scoped>\n",
       "    .dataframe tbody tr th:only-of-type {\n",
       "        vertical-align: middle;\n",
       "    }\n",
       "\n",
       "    .dataframe tbody tr th {\n",
       "        vertical-align: top;\n",
       "    }\n",
       "\n",
       "    .dataframe thead th {\n",
       "        text-align: right;\n",
       "    }\n",
       "</style>\n",
       "<table border=\"1\" class=\"dataframe\">\n",
       "  <thead>\n",
       "    <tr style=\"text-align: right;\">\n",
       "      <th></th>\n",
       "      <th>rougher.input.feed</th>\n",
       "      <th>rougher.output</th>\n",
       "      <th>primary_cleaner.output</th>\n",
       "      <th>final.output</th>\n",
       "    </tr>\n",
       "  </thead>\n",
       "  <tbody>\n",
       "    <tr>\n",
       "      <th>0</th>\n",
       "      <td>6.48615</td>\n",
       "      <td>19.793808</td>\n",
       "      <td>34.174427</td>\n",
       "      <td>42.19202</td>\n",
       "    </tr>\n",
       "    <tr>\n",
       "      <th>1</th>\n",
       "      <td>6.478583</td>\n",
       "      <td>20.050975</td>\n",
       "      <td>34.118526</td>\n",
       "      <td>42.701629</td>\n",
       "    </tr>\n",
       "    <tr>\n",
       "      <th>2</th>\n",
       "      <td>6.362222</td>\n",
       "      <td>19.73717</td>\n",
       "      <td>33.969464</td>\n",
       "      <td>42.657501</td>\n",
       "    </tr>\n",
       "    <tr>\n",
       "      <th>3</th>\n",
       "      <td>6.118189</td>\n",
       "      <td>19.32081</td>\n",
       "      <td>28.260743</td>\n",
       "      <td>42.689819</td>\n",
       "    </tr>\n",
       "    <tr>\n",
       "      <th>4</th>\n",
       "      <td>5.663707</td>\n",
       "      <td>19.216101</td>\n",
       "      <td>33.044932</td>\n",
       "      <td>42.774141</td>\n",
       "    </tr>\n",
       "    <tr>\n",
       "      <th>...</th>\n",
       "      <td>...</td>\n",
       "      <td>...</td>\n",
       "      <td>...</td>\n",
       "      <td>...</td>\n",
       "    </tr>\n",
       "    <tr>\n",
       "      <th>16855</th>\n",
       "      <td>5.335862</td>\n",
       "      <td>18.60355</td>\n",
       "      <td>32.940215</td>\n",
       "      <td>46.713954</td>\n",
       "    </tr>\n",
       "    <tr>\n",
       "      <th>16856</th>\n",
       "      <td>4.838619</td>\n",
       "      <td>18.441436</td>\n",
       "      <td>32.925325</td>\n",
       "      <td>46.86678</td>\n",
       "    </tr>\n",
       "    <tr>\n",
       "      <th>16857</th>\n",
       "      <td>4.525061</td>\n",
       "      <td>15.111231</td>\n",
       "      <td>31.856742</td>\n",
       "      <td>46.795691</td>\n",
       "    </tr>\n",
       "    <tr>\n",
       "      <th>16858</th>\n",
       "      <td>4.362781</td>\n",
       "      <td>17.834772</td>\n",
       "      <td>30.770892</td>\n",
       "      <td>46.408188</td>\n",
       "    </tr>\n",
       "    <tr>\n",
       "      <th>16859</th>\n",
       "      <td>4.365491</td>\n",
       "      <td>17.804134</td>\n",
       "      <td>30.356618</td>\n",
       "      <td>46.299438</td>\n",
       "    </tr>\n",
       "  </tbody>\n",
       "</table>\n",
       "<p>12888 rows × 4 columns</p>\n",
       "</div>"
      ],
      "text/plain": [
       "      rougher.input.feed rougher.output primary_cleaner.output final.output\n",
       "0                6.48615      19.793808              34.174427     42.19202\n",
       "1               6.478583      20.050975              34.118526    42.701629\n",
       "2               6.362222       19.73717              33.969464    42.657501\n",
       "3               6.118189       19.32081              28.260743    42.689819\n",
       "4               5.663707      19.216101              33.044932    42.774141\n",
       "...                  ...            ...                    ...          ...\n",
       "16855           5.335862       18.60355              32.940215    46.713954\n",
       "16856           4.838619      18.441436              32.925325     46.86678\n",
       "16857           4.525061      15.111231              31.856742    46.795691\n",
       "16858           4.362781      17.834772              30.770892    46.408188\n",
       "16859           4.365491      17.804134              30.356618    46.299438\n",
       "\n",
       "[12888 rows x 4 columns]"
      ]
     },
     "execution_count": 17,
     "metadata": {},
     "output_type": "execute_result"
    }
   ],
   "source": [
    "df_train_au_con = pd.DataFrame({'rougher.input.feed': df_train['rougher.input.feed_au'],'rougher.output':df_train['rougher.output.concentrate_au'],'primary_cleaner.output':df_train['primary_cleaner.output.concentrate_au'], 'final.output': df_train['final.output.concentrate_au']})\n",
    "df_train_ag_con = pd.DataFrame({'rougher.input.feed': df_train['rougher.input.feed_ag'],'rougher.output':df_train['rougher.output.concentrate_ag'],'primary_cleaner.output':df_train['primary_cleaner.output.concentrate_ag'], 'final.output': df_train['final.output.concentrate_ag']})\n",
    "df_train_pb_con = pd.DataFrame({'rougher.input.feed': df_train['rougher.input.feed_pb'],'rougher.output':df_train['rougher.output.concentrate_pb'],'primary_cleaner.output':df_train['primary_cleaner.output.concentrate_pb'], 'final.output': df_train['final.output.concentrate_pb']})\n",
    "\n",
    "df_train_au_con"
   ]
  },
  {
   "cell_type": "code",
   "execution_count": 18,
   "metadata": {},
   "outputs": [
    {
     "data": {
      "image/png": "[encoded data removed]",
      "text/plain": [
       "<Figure size 432x288 with 1 Axes>"
      ]
     },
     "metadata": {
      "needs_background": "light"
     },
     "output_type": "display_data"
    }
   ],
   "source": [
    "# Au concentration\n",
    "df_train_au_con.plot(kind='hist', bins=40)\n",
    "plt.title('Histogram of Au metal concentration at four purification stages')\n",
    "plt.xlabel('Concentration')\n",
    "plt.show()"
   ]
  },
  {
   "cell_type": "code",
   "execution_count": 19,
   "metadata": {},
   "outputs": [
    {
     "data": {
      "image/png": "[encoded data removed]",
      "text/plain": [
       "<Figure size 432x288 with 1 Axes>"
      ]
     },
     "metadata": {
      "needs_background": "light"
     },
     "output_type": "display_data"
    }
   ],
   "source": [
    "# Ag concentration\n",
    "df_train_ag_con.plot(kind='hist', bins=40)\n",
    "plt.title('Histogram of Ag metal concentration at four purification stages')\n",
    "plt.xlabel('Concentration')\n",
    "plt.show()"
   ]
  },
  {
   "cell_type": "code",
   "execution_count": 20,
   "metadata": {},
   "outputs": [
    {
     "data": {
      "image/png": "[encoded data removed]",
      "text/plain": [
       "<Figure size 432x288 with 1 Axes>"
      ]
     },
     "metadata": {
      "needs_background": "light"
     },
     "output_type": "display_data"
    }
   ],
   "source": [
    "# Pb concentration\n",
    "df_train_pb_con.plot(kind='hist', bins=40)\n",
    "plt.title('Histogram of Pb metal concentration at four purification stages')\n",
    "plt.xlabel('Concentration')\n",
    "plt.show()"
   ]
  },
  {
   "cell_type": "markdown",
   "metadata": {},
   "source": [
    "* The Au metal concentration gradually increases with the consecutive purification stages\n",
    "* Ag metal concentration increases and decreases from feed input to the final output. \n",
    "* pb is in the lowest concentration. increases from input feed to primary and final output.\n"
   ]
  },
  {
   "cell_type": "markdown",
   "metadata": {},
   "source": [
    "<div class=\"alert alert-danger\">\n",
    "<s><b>Reviewer's comment</b>\n",
    "\n",
    "As far as I can tell, you're looking at total concentration here, and in this task you need to check how concentrations of individual metals change throughout the process\n",
    "\n",
    "</div>"
   ]
  },
  {
   "cell_type": "markdown",
   "metadata": {},
   "source": [
    "<div class=\"alert alert-info\">\n",
    "    I misunderstood the prompt. fixed it. \n",
    "</div>"
   ]
  },
  {
   "cell_type": "markdown",
   "metadata": {},
   "source": [
    "<div class=\"alert alert-success\">\n",
    "<b>Reviewer's comment V2</b>\n",
    "\n",
    "Excellent!\n",
    "\n",
    "</div>"
   ]
  },
  {
   "cell_type": "markdown",
   "metadata": {},
   "source": [
    "### Compare the feed particle size distributions in the training set and in the test set. If the distributions vary significantly, the model evaluation will be incorrect."
   ]
  },
  {
   "cell_type": "code",
   "execution_count": 21,
   "metadata": {},
   "outputs": [
    {
     "data": {
      "image/png": "[encoded data removed]",
      "text/plain": [
       "<Figure size 432x288 with 1 Axes>"
      ]
     },
     "metadata": {
      "needs_background": "light"
     },
     "output_type": "display_data"
    }
   ],
   "source": [
    "# rougher.input.feed_size\n",
    "df_train['rougher.input.feed_size'].plot(kind='hist', bins=100, density=True)\n",
    "df_test['rougher.input.feed_size'].plot(kind='hist', bins=100, alpha=0.8, density=True)\n",
    "\n",
    "plt.show()\n"
   ]
  },
  {
   "cell_type": "markdown",
   "metadata": {},
   "source": [
    "the distribution of the feed_size for the train and test set is similar, between 40-90. "
   ]
  },
  {
   "cell_type": "markdown",
   "metadata": {},
   "source": [
    "<div class=\"alert alert-warning\">\n",
    "<b>Reviewer's comment</b>\n",
    "\n",
    "Alright! It would be nice to normalize the histograms as we have samples of different size (`density=True`)\n",
    "\n",
    "</div>"
   ]
  },
  {
   "cell_type": "markdown",
   "metadata": {},
   "source": [
    "<div class=\"alert alert-info\">\n",
    "    I didn't consider that. The distribution look a lot more similar now.\n",
    "</div>"
   ]
  },
  {
   "cell_type": "markdown",
   "metadata": {},
   "source": [
    "<div class=\"alert alert-success\">\n",
    "<b>Reviewer's comment V2</b>\n",
    "\n",
    "Alright!\n",
    "\n",
    "</div>"
   ]
  },
  {
   "cell_type": "markdown",
   "metadata": {},
   "source": [
    "### Consider the total concentrations of all substances at different stages: raw feed, rougher concentrate, and final concentrate. "
   ]
  },
  {
   "cell_type": "code",
   "execution_count": 22,
   "metadata": {},
   "outputs": [
    {
     "data": {
      "text/html": [
       "<div>\n",
       "<style scoped>\n",
       "    .dataframe tbody tr th:only-of-type {\n",
       "        vertical-align: middle;\n",
       "    }\n",
       "\n",
       "    .dataframe tbody tr th {\n",
       "        vertical-align: top;\n",
       "    }\n",
       "\n",
       "    .dataframe thead th {\n",
       "        text-align: right;\n",
       "    }\n",
       "</style>\n",
       "<table border=\"1\" class=\"dataframe\">\n",
       "  <thead>\n",
       "    <tr style=\"text-align: right;\">\n",
       "      <th></th>\n",
       "      <th>raw_feed</th>\n",
       "      <th>rougher_con</th>\n",
       "      <th>final_con</th>\n",
       "    </tr>\n",
       "  </thead>\n",
       "  <tbody>\n",
       "    <tr>\n",
       "      <th>0</th>\n",
       "      <td>51.680034</td>\n",
       "      <td>66.42495</td>\n",
       "      <td>63.644396</td>\n",
       "    </tr>\n",
       "    <tr>\n",
       "      <th>1</th>\n",
       "      <td>50.659114</td>\n",
       "      <td>67.01271</td>\n",
       "      <td>63.957723</td>\n",
       "    </tr>\n",
       "    <tr>\n",
       "      <th>2</th>\n",
       "      <td>50.609929</td>\n",
       "      <td>66.103793</td>\n",
       "      <td>64.31118</td>\n",
       "    </tr>\n",
       "    <tr>\n",
       "      <th>3</th>\n",
       "      <td>51.061546</td>\n",
       "      <td>65.752751</td>\n",
       "      <td>63.573449</td>\n",
       "    </tr>\n",
       "    <tr>\n",
       "      <th>4</th>\n",
       "      <td>47.859163</td>\n",
       "      <td>65.908382</td>\n",
       "      <td>64.004667</td>\n",
       "    </tr>\n",
       "    <tr>\n",
       "      <th>...</th>\n",
       "      <td>...</td>\n",
       "      <td>...</td>\n",
       "      <td>...</td>\n",
       "    </tr>\n",
       "    <tr>\n",
       "      <th>16855</th>\n",
       "      <td>53.41505</td>\n",
       "      <td>70.781325</td>\n",
       "      <td>68.098589</td>\n",
       "    </tr>\n",
       "    <tr>\n",
       "      <th>16856</th>\n",
       "      <td>53.696482</td>\n",
       "      <td>70.539603</td>\n",
       "      <td>68.274362</td>\n",
       "    </tr>\n",
       "    <tr>\n",
       "      <th>16857</th>\n",
       "      <td>54.589604</td>\n",
       "      <td>55.37633</td>\n",
       "      <td>68.226068</td>\n",
       "    </tr>\n",
       "    <tr>\n",
       "      <th>16858</th>\n",
       "      <td>54.027355</td>\n",
       "      <td>69.201689</td>\n",
       "      <td>68.200449</td>\n",
       "    </tr>\n",
       "    <tr>\n",
       "      <th>16859</th>\n",
       "      <td>53.535054</td>\n",
       "      <td>69.544003</td>\n",
       "      <td>68.353154</td>\n",
       "    </tr>\n",
       "  </tbody>\n",
       "</table>\n",
       "<p>12888 rows × 3 columns</p>\n",
       "</div>"
      ],
      "text/plain": [
       "        raw_feed rougher_con  final_con\n",
       "0      51.680034    66.42495  63.644396\n",
       "1      50.659114    67.01271  63.957723\n",
       "2      50.609929   66.103793   64.31118\n",
       "3      51.061546   65.752751  63.573449\n",
       "4      47.859163   65.908382  64.004667\n",
       "...          ...         ...        ...\n",
       "16855   53.41505   70.781325  68.098589\n",
       "16856  53.696482   70.539603  68.274362\n",
       "16857  54.589604    55.37633  68.226068\n",
       "16858  54.027355   69.201689  68.200449\n",
       "16859  53.535054   69.544003  68.353154\n",
       "\n",
       "[12888 rows x 3 columns]"
      ]
     },
     "execution_count": 22,
     "metadata": {},
     "output_type": "execute_result"
    }
   ],
   "source": [
    "df_train_raw_feed = df_train['rougher.input.feed_au'] + df_train['rougher.input.feed_ag'] + df_train['rougher.input.feed_pb']+ df_train['rougher.input.feed_sol']\n",
    "df_train_rougher_con = df_train['rougher.output.concentrate_au'] + df_train['rougher.output.concentrate_ag'] + df_train['rougher.output.concentrate_pb'] + df_train['rougher.output.concentrate_sol']\n",
    "df_train_final_con = df_train['final.output.concentrate_au'] + df_train['final.output.concentrate_ag'] + df_train['final.output.concentrate_pb'] + df_train['final.output.concentrate_sol']\n",
    "\n",
    "final_con = pd.DataFrame({'raw_feed': df_train_raw_feed, 'rougher_con': df_train_rougher_con, 'final_con': df_train_final_con})\n",
    "final_con"
   ]
  },
  {
   "cell_type": "code",
   "execution_count": 23,
   "metadata": {},
   "outputs": [
    {
     "data": {
      "image/png": "[encoded data removed]",
      "text/plain": [
       "<Figure size 432x288 with 1 Axes>"
      ]
     },
     "metadata": {
      "needs_background": "light"
     },
     "output_type": "display_data"
    }
   ],
   "source": [
    "final_con.plot(kind='hist', bins=100)\n",
    "plt.show()"
   ]
  },
  {
   "cell_type": "markdown",
   "metadata": {},
   "source": [
    "The graph shows a large number of instances where concentration is zero. This may be due to zero concentration for the three stages. In which case these rows could be removed. "
   ]
  },
  {
   "cell_type": "code",
   "execution_count": 24,
   "metadata": {},
   "outputs": [
    {
     "data": {
      "text/plain": [
       "(12888, 87)"
      ]
     },
     "execution_count": 24,
     "metadata": {},
     "output_type": "execute_result"
    }
   ],
   "source": [
    "df_train.shape"
   ]
  },
  {
   "cell_type": "code",
   "execution_count": 25,
   "metadata": {},
   "outputs": [],
   "source": [
    "# removing zero concentrations \n",
    "#final_con = final_con.drop(final_con[(final_con['raw_feed'] == 0) & (final_con['rougher_con'] == 0) & (final_con['final_con'] == 0)].index)\n",
    "#df_train = df_train.drop(df_train[(df_train['rougher.input.feed_au'] == 0) & (df_train['rougher.input.feed_ag'] == 0) & (df_train['rougher.input.feed_pb'] == 0) & (df_train['rougher.input.feed_sol'] == 0) & (df_train['rougher.output.concentrate_au'] == 0) & (df_train['rougher.output.concentrate_ag'] == 0) & (df_train['rougher.output.concentrate_pb'] == 0) & (df_train['rougher.output.concentrate_sol'] == 0) & (df_train['final.output.concentrate_au'] == 0) & (df_train['final.output.concentrate_ag'] == 0) & (df_train['final.output.concentrate_pb'] == 0) & (df_train['final.output.concentrate_sol'] == 0)].index)\n",
    "#df_source = df_source.drop(df_source[(df_source['rougher.input.feed_au'] == 0) & (df_source['rougher.input.feed_ag'] == 0) & (df_source['rougher.input.feed_pb'] == 0) & (df_source['rougher.input.feed_sol'] == 0) & (df_source['rougher.output.concentrate_au'] == 0) & (df_source['rougher.output.concentrate_ag'] == 0) & (df_source['rougher.output.concentrate_pb'] == 0) & (df_source['rougher.output.concentrate_sol'] == 0) & (df_source['final.output.concentrate_au'] == 0) & (df_source['final.output.concentrate_ag'] == 0) & (df_source['final.output.concentrate_pb'] == 0) & (df_source['final.output.concentrate_sol'] == 0)].index)\n"
   ]
  },
  {
   "cell_type": "code",
   "execution_count": 26,
   "metadata": {},
   "outputs": [],
   "source": [
    "# removing zero concentrations \n",
    "df_train = df_train.drop(df_train[(df_train['rougher.output.concentrate_au'] == 0) | (df_train['rougher.output.concentrate_ag'] == 0) | (df_train['rougher.output.concentrate_pb'] == 0) | (df_train['rougher.output.concentrate_sol'] == 0) | (df_train['final.output.concentrate_au'] == 0) | (df_train['final.output.concentrate_ag'] == 0) | (df_train['final.output.concentrate_pb'] == 0) | (df_train['final.output.concentrate_sol'] == 0)].index)\n",
    "df_source = df_source.drop(df_source[(df_source['rougher.output.concentrate_au'] == 0) | (df_source['rougher.output.concentrate_ag'] == 0) | (df_source['rougher.output.concentrate_pb'] == 0) | (df_source['rougher.output.concentrate_sol'] == 0) | (df_source['final.output.concentrate_au'] == 0) | (df_source['final.output.concentrate_ag'] == 0) | (df_source['final.output.concentrate_pb'] == 0) | (df_source['final.output.concentrate_sol'] == 0)].index)\n",
    "\n"
   ]
  },
  {
   "cell_type": "code",
   "execution_count": 27,
   "metadata": {},
   "outputs": [
    {
     "data": {
      "text/plain": [
       "(12607, 87)"
      ]
     },
     "execution_count": 27,
     "metadata": {},
     "output_type": "execute_result"
    }
   ],
   "source": [
    "df_train.shape"
   ]
  },
  {
   "cell_type": "markdown",
   "metadata": {},
   "source": [
    "Part 2:\n",
    "\n",
    "    * The concentration of the metals was visualized with a histogram at different stages of the gold recovery process. \n",
    "    * 0 concentration rows removed from train and source sets"
   ]
  },
  {
   "cell_type": "markdown",
   "metadata": {},
   "source": [
    "<div class=\"alert alert-success\">\n",
    "<b>Reviewer's comment</b>\n",
    "\n",
    "Very well, outlliers were removed!\n",
    "\n",
    "</div>"
   ]
  },
  {
   "cell_type": "markdown",
   "metadata": {},
   "source": [
    "## Build the model"
   ]
  },
  {
   "cell_type": "markdown",
   "metadata": {},
   "source": [
    "### Function to calculate the final sMAPE value."
   ]
  },
  {
   "cell_type": "code",
   "execution_count": 28,
   "metadata": {},
   "outputs": [],
   "source": [
    "import numpy as np "
   ]
  },
  {
   "cell_type": "code",
   "execution_count": 29,
   "metadata": {},
   "outputs": [],
   "source": [
    "# sMAPE \n",
    "def smape(act, predicted):\n",
    "    error = abs(act - predicted)\n",
    "    scale = (abs(act) + abs(predicted))/2\n",
    "    smape= np.mean(error/scale)\n",
    "    return smape"
   ]
  },
  {
   "cell_type": "code",
   "execution_count": 30,
   "metadata": {},
   "outputs": [],
   "source": [
    "def final_smape(actual, predictions):\n",
    "    rougher = smape(actual['rougher.output.recovery'], predictions['rougher.output.recovery'])\n",
    "    final = smape(actual['final.output.recovery'], predictions['final.output.recovery'])\n",
    "    f_smape = (0.25*rougher) + (0.75*final)\n",
    "    return f_smape"
   ]
  },
  {
   "cell_type": "markdown",
   "metadata": {},
   "source": [
    "<div class=\"alert alert-success\">\n",
    "<b>Reviewer's comment</b>\n",
    "\n",
    "Functions for SMAPE calculation are correct\n",
    "\n",
    "</div>"
   ]
  },
  {
   "cell_type": "markdown",
   "metadata": {},
   "source": [
    "### Train different models. Evaluate them using cross-validation. Pick the best model and test it using the test sample. Provide findings."
   ]
  },
  {
   "cell_type": "code",
   "execution_count": 31,
   "metadata": {},
   "outputs": [],
   "source": [
    "# columns to be dropped for features set\n",
    "df_test_missing.append('date')"
   ]
  },
  {
   "cell_type": "code",
   "execution_count": 32,
   "metadata": {},
   "outputs": [],
   "source": [
    "# features and targets datasets\n",
    "features = df_train.drop(df_test_missing, axis=1)\n",
    "target = df_train[['rougher.output.recovery', 'final.output.recovery']]"
   ]
  },
  {
   "cell_type": "markdown",
   "metadata": {},
   "source": [
    "<div class=\"alert alert-danger\">\n",
    "<s><b>Reviewer's comment</b>\n",
    "\n",
    "In this project you're supposed to use cross-validation to compare the models and tune hyperparameters, not a validation set :)\n",
    "\n",
    "The train and test sets are already given, you can use the dates to filter the source dataset\n",
    "    \n",
    "</div>"
   ]
  },
  {
   "cell_type": "markdown",
   "metadata": {},
   "source": [
    "#### Random Forest Regressor "
   ]
  },
  {
   "cell_type": "code",
   "execution_count": 33,
   "metadata": {},
   "outputs": [
    {
     "name": "stdout",
     "output_type": "stream",
     "text": [
      "Best model: RandomForestRegressor(max_depth=3, n_estimators=40, random_state=12345) \n",
      "AVG Final sMAPE: 0.09842821815300924\n"
     ]
    }
   ],
   "source": [
    "# cross validation \n",
    "sample_size = int(len(df_train)/3)\n",
    "\n",
    "best_model = None\n",
    "best_result = 100\n",
    "\n",
    "for est in range(10, 51, 10):\n",
    "    for depth in range (1, 6):\n",
    "        final_smapes = []\n",
    "           \n",
    "        for i in range(0, len(df_train)-1, sample_size):\n",
    "            valid_indexes = range(i, i + sample_size)\n",
    "            train_indexes = list(range(0, i)) + list(range(i + sample_size, len(df_train)))\n",
    "    \n",
    "            # Split variables features and target into samples features_train, target_train, features_valid, target_valid\n",
    "            features_train = features.iloc[train_indexes]\n",
    "            features_valid = features.iloc[valid_indexes]\n",
    "    \n",
    "            target_train = target.iloc[train_indexes]\n",
    "            target_valid = target.iloc[valid_indexes].reset_index(drop=True)\n",
    "\n",
    "            # initialize model constructor with parameters random_state=12345 and n_estimators=est\n",
    "            model = RandomForestRegressor(random_state=12345, n_estimators=est, max_depth=depth)\n",
    "            model.fit(features_train, target_train) # train model on training set\n",
    "            predictions_valid = model.predict(features_valid) # get model predictions on validation set\n",
    "            predictions_valid = pd.DataFrame({'rougher.output.recovery':predictions_valid[:,0], 'final.output.recovery':predictions_valid[:,1]})\n",
    "\n",
    "            rfr_final_smape = final_smape(target_valid, predictions_valid)\n",
    "            final_smapes.append(rfr_final_smape)\n",
    "        \n",
    "        rfr_final_smape_avg = sum(final_smapes) / len(final_smapes)\n",
    "        if rfr_final_smape_avg < best_result:\n",
    "            best_model = model\n",
    "            best_result = rfr_final_smape_avg\n",
    "\n",
    "rfr_final_smape_avg = best_result \n",
    "            \n",
    "print(f'Best model: {best_model} \\nAVG Final sMAPE: {best_result}')"
   ]
  },
  {
   "cell_type": "markdown",
   "metadata": {},
   "source": [
    "<div class='alert alert-info'>\n",
    "    The cross validation and tuning hyperparameters for the Random Forest regressor takes a few minutes to process. Is that normal?\n",
    "</div>"
   ]
  },
  {
   "cell_type": "markdown",
   "metadata": {},
   "source": [
    "<div class=\"alert alert-success\">\n",
    "<b>Reviewer's comment V2</b>\n",
    "\n",
    "Yep, that's because you have to train a model for each combination of hyperparameters multiplied by the number of cross-validation folds (so in the above cell 5 * 5 * 3 = 75 models)\n",
    "\n",
    "</div>"
   ]
  },
  {
   "cell_type": "markdown",
   "metadata": {},
   "source": [
    "<div class=\"alert alert-info\">\n",
    "    fixed the order of for loops with your advice and explanation \n",
    "</div>"
   ]
  },
  {
   "cell_type": "markdown",
   "metadata": {},
   "source": [
    "<div class=\"alert alert-success\">\n",
    "<b>Reviewer's comment V3</b>\n",
    "\n",
    "Awesome!\n",
    "\n",
    "</div>"
   ]
  },
  {
   "cell_type": "markdown",
   "metadata": {},
   "source": [
    "#### linear Regression Model \n"
   ]
  },
  {
   "cell_type": "code",
   "execution_count": 34,
   "metadata": {},
   "outputs": [
    {
     "name": "stdout",
     "output_type": "stream",
     "text": [
      "AVG final sMAPE: 0.11055163287876542\n"
     ]
    }
   ],
   "source": [
    "final_smapes = []\n",
    "\n",
    "for i in range(0, len(df_train)-1, sample_size):\n",
    "    valid_indexes = range(i, i + sample_size)\n",
    "    train_indexes = list(range(0, i)) + list(range(i + sample_size, len(df_train)))\n",
    "    \n",
    "    # Split variables features and target into samples features_train, target_train, features_valid, target_valid\n",
    "    features_train = features.iloc[train_indexes]\n",
    "    features_valid = features.iloc[valid_indexes]\n",
    "    \n",
    "    target_train = target.iloc[train_indexes]\n",
    "    target_valid = target.iloc[valid_indexes].reset_index(drop=True)\n",
    "\n",
    "    model = LinearRegression()\n",
    "    model = model.fit(features_train, target_train)\n",
    "    predictions = model.predict(features_valid)\n",
    "    predictions = pd.DataFrame({'rougher.output.recovery':predictions[:,0], 'final.output.recovery':predictions[:,1]})\n",
    "\n",
    "    lr_final_smape = final_smape(target_valid, predictions)\n",
    "    final_smapes.append(lr_final_smape)\n",
    "    \n",
    "lr_final_smape_avg = sum(final_smapes) / len(final_smapes)\n",
    "print('AVG final sMAPE:', lr_final_smape_avg)"
   ]
  },
  {
   "cell_type": "markdown",
   "metadata": {},
   "source": [
    "#### decision tree "
   ]
  },
  {
   "cell_type": "code",
   "execution_count": 35,
   "metadata": {},
   "outputs": [
    {
     "name": "stdout",
     "output_type": "stream",
     "text": [
      "[0.13787660474099178, 0.13073961979096946, 0.16578371517372367]\n",
      "AVG final sMAPE: 0.14479997990189497\n"
     ]
    }
   ],
   "source": [
    "final_smapes = []\n",
    "\n",
    "for i in range(0, len(df_train)-1, sample_size):\n",
    "    valid_indexes = range(i, i + sample_size)\n",
    "    train_indexes = list(range(0, i)) + list(range(i + sample_size, len(df_train)))\n",
    "    \n",
    "    # Split variables features and target into samples features_train, target_train, features_valid, target_valid\n",
    "    features_train = features.iloc[train_indexes]\n",
    "    features_valid = features.iloc[valid_indexes]\n",
    "    \n",
    "    target_train = target.iloc[train_indexes]\n",
    "    target_valid = target.iloc[valid_indexes].reset_index(drop=True)\n",
    "\n",
    "    model = DecisionTreeRegressor()\n",
    "    model = model.fit(features_train, target_train)\n",
    "    predictions = model.predict(features_valid)\n",
    "    predictions = pd.DataFrame({'rougher.output.recovery':predictions[:,0], 'final.output.recovery':predictions[:,1]})\n",
    "\n",
    "    rfr_final_smape = final_smape(target_valid, predictions)\n",
    "    final_smapes.append(rfr_final_smape)\n",
    "    \n",
    "print(final_smapes)\n",
    "dtr_final_smape_avg = sum(final_smapes) / len(final_smapes)\n",
    "print('AVG final sMAPE:', dtr_final_smape_avg)"
   ]
  },
  {
   "cell_type": "markdown",
   "metadata": {},
   "source": [
    "#### sMAPE comparison"
   ]
  },
  {
   "cell_type": "code",
   "execution_count": 36,
   "metadata": {
    "scrolled": true
   },
   "outputs": [
    {
     "name": "stdout",
     "output_type": "stream",
     "text": [
      "Final sMAPE\n",
      "RFR: 0.09842821815300924\n",
      " LR: 0.11055163287876542 \n",
      " DT: 0.14479997990189497\n"
     ]
    }
   ],
   "source": [
    "print('Final sMAPE')\n",
    "print(f'RFR: {rfr_final_smape_avg}\\n LR: {lr_final_smape_avg} \\n DT: {dtr_final_smape_avg}')"
   ]
  },
  {
   "cell_type": "markdown",
   "metadata": {},
   "source": [
    "The Random Forest Regressor (RFR) model returned the lowest symmetric Mean Absolute Percentage Error (0.098). Thus, the RFR model will be used on the test dataset.\n"
   ]
  },
  {
   "cell_type": "code",
   "execution_count": 37,
   "metadata": {},
   "outputs": [
    {
     "data": {
      "text/plain": [
       "RandomForestRegressor(max_depth=3, n_estimators=40, random_state=12345)"
      ]
     },
     "execution_count": 37,
     "metadata": {},
     "output_type": "execute_result"
    }
   ],
   "source": [
    "best_model"
   ]
  },
  {
   "cell_type": "markdown",
   "metadata": {},
   "source": [
    "<div class=\"alert alert-danger\">\n",
    "<S><b>Reviewer's comment</b>\n",
    "\n",
    "1. Please add some hyperparameter tuning for at least one model\n",
    "2. Please use cross-validation instead of a validation set\n",
    "\n",
    "</div>"
   ]
  },
  {
   "cell_type": "markdown",
   "metadata": {},
   "source": [
    "<div class=\"alert alert-info\">\n",
    "    I had some trouble with the cross validation. I understand the concept but I had a bit of trouble with tuning the model during cv. Let me know if this is the right way. \n",
    "</div> "
   ]
  },
  {
   "cell_type": "markdown",
   "metadata": {},
   "source": [
    "<div class=\"alert alert-danger\">\n",
    "<s><b>Reviewer's comment V2</b>\n",
    "\n",
    "All looks good, except for hyperparameter tuning you'd want to put the loops in a different order. Like this:\n",
    "    \n",
    "```python\n",
    "for est in range(10, 51, 10):\n",
    "    for depth in range (1, 6):\n",
    "        final_smapes = []\n",
    "        for i in range(0, len(df_train)-1, sample_size):   \n",
    "            ...\n",
    "            final_smapes.append(rfr_final_smape)\n",
    "        rfr_final_smape_avg = sum(final_smapes) / len(final_smapes)\n",
    "        # here you'd put the logic for comparing the smape to models with different hyperparameters\n",
    "```\n",
    "    \n",
    "The idea is to evaluate a model with each hyperparameter combination using cross-validation, compare the mean score of each and select the best.\n",
    "    \n",
    "By the way you could us [KFold](http://scikit-learn.org/stable/modules/generated/sklearn.model_selection.KFold.html) for easier splitting of the data, or even something like [cross_val_score](http://scikit-learn.org/stable/modules/generated/sklearn.model_selection.cross_val_score.html) or [GridSearchCV](http://scikit-learn.org/stable/modules/generated/sklearn.model_selection.GridSearchCV.html) to simplify the code (but then you'd have to slightly change your SMAPE function to implement [scoring](https://scikit-learn.org/stable/modules/model_evaluation.html#defining-your-scoring-strategy-from-metric-functions))\n",
    "    \n",
    "</div>"
   ]
  },
  {
   "cell_type": "markdown",
   "metadata": {},
   "source": [
    "<div class=\"alert alert-info\">\n",
    "    When hypertuning models with cross validation, the best model is determined not by the RMSE but by the mean sMAPE for each hyperparameter combination. Correct?\n",
    "</div>"
   ]
  },
  {
   "cell_type": "markdown",
   "metadata": {},
   "source": [
    "<div class=\"alert alert-success\">\n",
    "<b>Reviewer's comment V3</b>\n",
    "\n",
    "Well, generally you can use whatever metric you need in cross-validation, it's just that in this project our target metric is SMAPE. But yeah, you indeed calculate the mean score on all folds and determine the best model that way.\n",
    "\n",
    "</div>"
   ]
  },
  {
   "cell_type": "markdown",
   "metadata": {},
   "source": [
    "<div class='alert alert-info'>\n",
    "    Is there a way to tune the hyperparameters for the decision tree or linear regression models?\n",
    "</div>"
   ]
  },
  {
   "cell_type": "markdown",
   "metadata": {},
   "source": [
    "<div class=\"alert alert-success\">\n",
    "<b>Reviewer's comment V3</b>\n",
    "\n",
    "For the most basic linear regression, there are no useful hyperparameters, but there are variants like ridge regression and lasso (see [docs](https://scikit-learn.org/stable/modules/linear_model.html#ridge-regression-and-classification)) which have hyperparameters that can be tuned.\n",
    "    \n",
    "For [decision tree](https://scikit-learn.org/stable/modules/generated/sklearn.tree.DecisionTreeRegressor.html) there are quite a few hyperparameters that can be tuned: max_depth, min_samples_split, min_samples_leaf and so on\n",
    "\n",
    "</div>"
   ]
  },
  {
   "cell_type": "markdown",
   "metadata": {},
   "source": [
    "<div class='alert alert-info'>\n",
    "    Thanks. \n",
    "    I tried cross validation while changing the max_depth and max_leaf_nodes for the decision tree regressor below.\n",
    "</div>"
   ]
  },
  {
   "cell_type": "markdown",
   "metadata": {},
   "source": [
    "<div class=\"alert alert-success\">\n",
    "<b>Reviewer's comment V4</b>\n",
    "\n",
    "Awesome!\n",
    "\n",
    "</div>"
   ]
  },
  {
   "cell_type": "markdown",
   "metadata": {},
   "source": [
    "#### max_depth and max_leaf_node decision tree (did not include in final analysis)"
   ]
  },
  {
   "cell_type": "code",
   "execution_count": 38,
   "metadata": {},
   "outputs": [
    {
     "name": "stdout",
     "output_type": "stream",
     "text": [
      "Best model: DecisionTreeRegressor(max_depth=2, max_leaf_nodes=3, random_state=12345) \n",
      "AVG Final sMAPE: 0.09785762801308824\n"
     ]
    }
   ],
   "source": [
    "best_model = None\n",
    "best_result = 100\n",
    "\n",
    "for depth in range(1,6):\n",
    "    for node in range(2,6):\n",
    "        final_smapes = []\n",
    "\n",
    "        for i in range(0, len(df_train)-1, sample_size):\n",
    "            valid_indexes = range(i, i + sample_size)\n",
    "            train_indexes = list(range(0, i)) + list(range(i + sample_size, len(df_train)))\n",
    "    \n",
    "            # Split variables features and target into samples features_train, target_train, features_valid, target_valid\n",
    "            features_train = features.iloc[train_indexes]\n",
    "            features_valid = features.iloc[valid_indexes]\n",
    "    \n",
    "            target_train = target.iloc[train_indexes]\n",
    "            target_valid = target.iloc[valid_indexes].reset_index(drop=True)\n",
    "\n",
    "            model = DecisionTreeRegressor(max_depth= depth, max_leaf_nodes=node, random_state=12345)\n",
    "            model = model.fit(features_train, target_train)\n",
    "            predictions = model.predict(features_valid)\n",
    "            predictions = pd.DataFrame({'rougher.output.recovery':predictions[:,0], 'final.output.recovery':predictions[:,1]})\n",
    "\n",
    "            lr_final_smape = final_smape(target_valid, predictions)\n",
    "            final_smapes.append(lr_final_smape)\n",
    "        lr_final_smape_avg = sum(final_smapes) / len(final_smapes)\n",
    "        if lr_final_smape_avg < best_result:\n",
    "            best_model = model\n",
    "            best_result = lr_final_smape_avg\n",
    "\n",
    "lr_final_smape_avg = best_result \n",
    "            \n",
    "print(f'Best model: {best_model} \\nAVG Final sMAPE: {best_result}')\n"
   ]
  },
  {
   "cell_type": "markdown",
   "metadata": {},
   "source": [
    "<div class=\"alert alert-info\">\n",
    "    I also tried using the cv function below. Let me know if I have done this correctly or if you have any suggestions.\n",
    "</div>"
   ]
  },
  {
   "cell_type": "markdown",
   "metadata": {},
   "source": [
    "<div class=\"alert alert-success\">\n",
    "<b>Reviewer's comment V4</b>\n",
    "\n",
    "All looks great, well done!\n",
    "    \n",
    "Note that if you use your custom scoring with `GridSearchCV` (which basically does the same thing you did manually below) you need to correctly set `greater_is_better` parameter of `make_scorer`. By default it is `True`, which means `GridSearchCV` will select the model with the biggest score. For error functions like SMAPE you'd want to select the model with the lowest score. Setting `greater_is_better=False` will flip the sign of the score (e.g. it will return -1 instead of 1) which will result in `GridSearchCV` selecting the model with lowest error \n",
    "\n",
    "</div>"
   ]
  },
  {
   "cell_type": "code",
   "execution_count": 39,
   "metadata": {},
   "outputs": [],
   "source": [
    "# sMAPE2 (same as smape function)\n",
    "def smape2(act, predicted):\n",
    "    error = abs(act - predicted)\n",
    "    scale = (abs(act) + abs(predicted))/2\n",
    "    smape= np.mean(error/scale)\n",
    "    return smape"
   ]
  },
  {
   "cell_type": "code",
   "execution_count": 40,
   "metadata": {},
   "outputs": [],
   "source": [
    "# actual dataframe turned into an array (nested lists)\n",
    "def final_smape2(actual, predictions):\n",
    "    actual = actual.values\n",
    "    rougher = smape2(actual[:,0], predictions[:,0])\n",
    "    final = smape2(actual[:,1], predictions[:,1])\n",
    "    f_smape = (0.25*rougher) + (0.75*final)\n",
    "    return f_smape"
   ]
  },
  {
   "cell_type": "code",
   "execution_count": 41,
   "metadata": {},
   "outputs": [],
   "source": [
    "best_model2 =None\n",
    "best_result2 =100\n",
    "\n",
    "for est in range(10, 51, 10):\n",
    "    for depth in range (1, 6):\n",
    "        model2 = RandomForestRegressor(random_state=12345, n_estimators=est, max_depth=depth)\n",
    "        score = make_scorer(final_smape2)\n",
    "        cross_val_scores = cross_val_score(model2, features, target, cv=3, scoring=score)\n",
    "        if cross_val_scores.mean() < best_result2:\n",
    "            best_model2 = model2\n",
    "            best_result2 = cross_val_scores.mean()\n"
   ]
  },
  {
   "cell_type": "code",
   "execution_count": 42,
   "metadata": {},
   "outputs": [
    {
     "name": "stdout",
     "output_type": "stream",
     "text": [
      "RandomForestRegressor(max_depth=3, n_estimators=40, random_state=12345)\n",
      "\n",
      "0.09831412716140531\n"
     ]
    }
   ],
   "source": [
    "# final sMAPE with cross_val_score function \n",
    "print(f\"{best_model2}\\n\\n{best_result2}\")"
   ]
  },
  {
   "cell_type": "markdown",
   "metadata": {},
   "source": [
    "#### Test set"
   ]
  },
  {
   "cell_type": "code",
   "execution_count": 43,
   "metadata": {},
   "outputs": [],
   "source": [
    "test_set = df_source.query(\"date in @df_test['date']\").reset_index(drop=True)"
   ]
  },
  {
   "cell_type": "code",
   "execution_count": 44,
   "metadata": {},
   "outputs": [],
   "source": [
    "# test the RFR model using test set\n",
    "features_test = test_set.drop(df_test_missing, axis=1).astype(float)\n",
    "target_test = test_set[['rougher.output.recovery', 'final.output.recovery']].astype(float)"
   ]
  },
  {
   "cell_type": "code",
   "execution_count": 45,
   "metadata": {},
   "outputs": [
    {
     "data": {
      "text/plain": [
       "0.07448813187102514"
      ]
     },
     "execution_count": 45,
     "metadata": {},
     "output_type": "execute_result"
    }
   ],
   "source": [
    "predictions = best_model.predict(features_test)\n",
    "predictions = pd.DataFrame({'rougher.output.recovery':predictions[:,0], 'final.output.recovery':predictions[:,1]})\n",
    "final_smape_test_set = final_smape(target_test, predictions)\n",
    "final_smape_test_set"
   ]
  },
  {
   "cell_type": "markdown",
   "metadata": {},
   "source": [
    "The source dataframe was filtered for dates in the test dataframe. \n",
    "This filtered data was used to make the features and targets dataset. \n",
    "Targets were predicted with the best RFR model. \n",
    "The final sMAPE was 0.074"
   ]
  },
  {
   "cell_type": "markdown",
   "metadata": {},
   "source": [
    "The final sMAPE on the test set and the final sMAPE from RGR cross validation was about 0.0745. Thus, the best RFR model from tuning will allow us to predict the targets with a 7.4% error (sMAPE). "
   ]
  },
  {
   "cell_type": "markdown",
   "metadata": {},
   "source": [
    "#### Dummy Regressor "
   ]
  },
  {
   "cell_type": "code",
   "execution_count": 46,
   "metadata": {},
   "outputs": [],
   "source": [
    "from sklearn.dummy import DummyRegressor"
   ]
  },
  {
   "cell_type": "code",
   "execution_count": 47,
   "metadata": {},
   "outputs": [],
   "source": [
    "model = DummyRegressor(strategy=\"median\")\n",
    "model.fit(features, target)\n",
    "predictions = model.predict(features_test)\n",
    "predictions = pd.DataFrame({'rougher.output.recovery':predictions[:,0], 'final.output.recovery':predictions[:,1]})"
   ]
  },
  {
   "cell_type": "code",
   "execution_count": 48,
   "metadata": {},
   "outputs": [
    {
     "data": {
      "text/plain": [
       "0.07577046612591155"
      ]
     },
     "execution_count": 48,
     "metadata": {},
     "output_type": "execute_result"
    }
   ],
   "source": [
    "constant_model_final_smape = final_smape(target_test, predictions)\n",
    "constant_model_final_smape"
   ]
  },
  {
   "cell_type": "markdown",
   "metadata": {},
   "source": [
    "<div class=\"alert alert-danger\">\n",
    "<S><b>Reviewer's comment</b>\n",
    "\n",
    "Please evaluate the final model using SMAPE on the test set and compare the results to some simple baseline (e.g. a constant model using [DummyRegressor](http://scikit-learn.org/stable/modules/generated/sklearn.dummy.DummyRegressor.html))\n",
    "\n",
    "</div>"
   ]
  },
  {
   "cell_type": "markdown",
   "metadata": {},
   "source": [
    "<div class='alert alert-info'>\n",
    "    I am unclear on what you mean by \"compare the results to some simple baseline (e.g. a constant model using DummyRegressor)\"\n",
    "</div>"
   ]
  },
  {
   "cell_type": "markdown",
   "metadata": {},
   "source": [
    "<div class=\"alert alert-danger\">\n",
    "<s><b>Reviewer's comment V2</b>\n",
    "\n",
    "Alright, the final model is evaluated on the test set correctly!\n",
    "    \n",
    "What I meant by that is to create a constant model (which would always predict mean or median of training targets; this can be done using DummyRegressor) and evaluate it on the test set as well. By comparing our final model to this constant model we can check if it actually learned something useful :)\n",
    "\n",
    "</div>"
   ]
  },
  {
   "cell_type": "markdown",
   "metadata": {},
   "source": [
    "<div class='alert alert-info'>\n",
    "    I train the dummy regressor model with the train set and tried to get the final sMAPE for the test set. However I am getting the error: \"TypeError: 'numpy.float64' object is not callable\". \n",
    "    I thought there was an issue with the smape functions but none of the other models had any issue. I changed the order of the sections in the notebook, running the DummyRegressor and then the test set with the best_model and I didn't get an error for the DummyRegressor but I got the same error for the best_model. I am not sure what the issue is, hope you can help. \n",
    "    \n",
    "</div>"
   ]
  },
  {
   "cell_type": "markdown",
   "metadata": {},
   "source": [
    "<div class=\"alert alert-danger\">\n",
    "<s><b>Reviewer's comment V3</b>\n",
    "\n",
    "The issue is that you're overwriting the `final_smape` function with a `final_smape` variable containing the final smape value for the DummyRegressor, so after running this cell once you can no longer call the function. Just use a different variable name :)\n",
    "\n",
    "</div>"
   ]
  },
  {
   "cell_type": "markdown",
   "metadata": {},
   "source": [
    "<div class=\"alert alert-info\">\n",
    "WOW. Spent hours thinking it was an issue with the function or something else, only to find out it was a simple overwriting issue. Lesson learned. Thanks. \n",
    "</div>"
   ]
  },
  {
   "cell_type": "markdown",
   "metadata": {},
   "source": [
    "<div class=\"alert alert-success\">\n",
    "<b>Reviewer's comment V4</b>\n",
    "\n",
    "Haha, yeah, it can be hard to debug such issues!\n",
    "\n",
    "</div>"
   ]
  },
  {
   "cell_type": "markdown",
   "metadata": {},
   "source": [
    "<div class= 'alert alert-info'>\n",
    "    The final sMAPE for the final model is 0.074488. And 0.07577 for the constant model. The difference is only 0.1282%. Is that ok? It seems a bit to close. \n",
    "    \n",
    "</div>"
   ]
  },
  {
   "cell_type": "markdown",
   "metadata": {},
   "source": [
    "<div class=\"alert alert-success\">\n",
    "<b>Reviewer's comment V4</b>\n",
    "\n",
    "Well, strictly speaking it is 0.1282 percentage points, or 1.69% difference, that is also not very much of a difference though :)\n",
    "    \n",
    "In this project there are no requirements on the score, but you are right to be vary of results not beating the dummy model by much. There could be several reasons for this: maybe data quality is poor, and the model learns noise, maybe there is some crucial parameter which determines the outcome of the process which was not measured\n",
    "\n",
    "</div>"
   ]
  },
  {
   "cell_type": "markdown",
   "metadata": {},
   "source": [
    "## Conclusion"
   ]
  },
  {
   "cell_type": "markdown",
   "metadata": {},
   "source": [
    "* The datasets was reviewed and cleaned \n",
    "* The concentrations of metals were viewed with histogram plots and 0 values for concentrations were removed from the test and source sets. \n",
    "* 3 ml models were trained and fited with test and train sets of the source dataset (df_source)\n",
    "* the Random Forest Regressor (RFR) models parameters were tuned for the best model. \n",
    "* RFR model returned the lowest AVG sMAPE (0.098%), thus RFR best_model was used to predict the targets on the test set. \n",
    "* The sMAPE on the test set with the best_model was 0.074.  \n",
    "* 7.4% sMAPE in predicting the targets, 'rougher.output.recovery' and 'final.output.recovery'"
   ]
  },
  {
   "cell_type": "code",
   "execution_count": 53,
   "metadata": {},
   "outputs": [
    {
     "name": "stdout",
     "output_type": "stream",
     "text": [
      "Random Forest Regressor best model: DecisionTreeRegressor(max_depth=2, max_leaf_nodes=3, random_state=12345)\n"
     ]
    }
   ],
   "source": [
    "print(f\"Random Forest Regressor best model: {best_model}\")"
   ]
  },
  {
   "cell_type": "markdown",
   "metadata": {},
   "source": [
    "<div class=\"alert alert-success\">\n",
    "<b>Reviewer's comment</b>\n",
    "\n",
    "Please check the conclusion after fixing the problems above\n",
    "\n",
    "</div>"
   ]
  },
  {
   "cell_type": "markdown",
   "metadata": {},
   "source": [
    "<div class=\"alert alert-info\">\n",
    "    Thanks for all the feedback Dmitry!\n",
    "</div>"
   ]
  },
  {
   "cell_type": "markdown",
   "metadata": {},
   "source": [
    "<div class=\"alert alert-success\">\n",
    "<b>Reviewer's comment V4</b>\n",
    "\n",
    "You're welcome! :)\n",
    "    \n",
    "The project is accepted! Keep up the good work on the next sprint!\n",
    "\n",
    "</div>"
   ]
  }
 ],
 "metadata": {
  "kernelspec": {
   "display_name": "Python 3 (ipykernel)",
   "language": "python",
   "name": "python3"
  },
  "language_info": {
   "codemirror_mode": {
    "name": "ipython",
    "version": 3
   },
   "file_extension": ".py",
   "mimetype": "text/x-python",
   "name": "python",
   "nbconvert_exporter": "python",
   "pygments_lexer": "ipython3",
   "version": "3.9.5"
  },
  "toc": {
   "base_numbering": 1,
   "nav_menu": {},
   "number_sections": true,
   "sideBar": true,
   "skip_h1_title": true,
   "title_cell": "Table of Contents",
   "title_sidebar": "Contents",
   "toc_cell": false,
   "toc_position": {},
   "toc_section_display": true,
   "toc_window_display": false
  }
 },
 "nbformat": 4,
 "nbformat_minor": 2
}
